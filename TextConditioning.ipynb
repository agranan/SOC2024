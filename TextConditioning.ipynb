{
 "cells": [
  {
   "cell_type": "code",
   "execution_count": 29,
   "metadata": {
    "execution": {
     "iopub.execute_input": "2024-08-03T06:26:53.374407Z",
     "iopub.status.busy": "2024-08-03T06:26:53.374075Z",
     "iopub.status.idle": "2024-08-03T06:26:53.380185Z",
     "shell.execute_reply": "2024-08-03T06:26:53.379261Z",
     "shell.execute_reply.started": "2024-08-03T06:26:53.374382Z"
    },
    "id": "IIz92PRRNmGV"
   },
   "outputs": [],
   "source": [
    "from __future__ import absolute_import\n",
    "from collections import namedtuple\n",
    "import torch\n",
    "import torch.nn as nn\n",
    "import torch.nn.init as init\n",
    "from torch.autograd import Variable\n",
    "import numpy as np\n",
    "import torch.nn\n",
    "import torchvision\n",
    "import glob\n",
    "import os\n",
    "import random\n",
    "from PIL import Image\n",
    "from torch.utils.data.dataset import Dataset"
   ]
  },
  {
   "cell_type": "code",
   "execution_count": 30,
   "metadata": {
    "execution": {
     "iopub.execute_input": "2024-08-03T06:26:55.721481Z",
     "iopub.status.busy": "2024-08-03T06:26:55.720804Z",
     "iopub.status.idle": "2024-08-03T06:26:55.726037Z",
     "shell.execute_reply": "2024-08-03T06:26:55.724899Z",
     "shell.execute_reply.started": "2024-08-03T06:26:55.721444Z"
    },
    "id": "skuSeC0kO5uJ"
   },
   "outputs": [],
   "source": [
    "device = torch.device('cuda' if torch.cuda.is_available() else 'cpu')\n"
   ]
  },
  {
   "cell_type": "code",
   "execution_count": 31,
   "metadata": {
    "execution": {
     "iopub.execute_input": "2024-08-03T06:27:00.373936Z",
     "iopub.status.busy": "2024-08-03T06:27:00.373327Z",
     "iopub.status.idle": "2024-08-03T06:27:00.378402Z",
     "shell.execute_reply": "2024-08-03T06:27:00.377530Z",
     "shell.execute_reply.started": "2024-08-03T06:27:00.373902Z"
    }
   },
   "outputs": [],
   "source": [
    "def validate_text_config(condition_config):\n",
    "    assert 'text_condition_config' in condition_config, \"Text conditioning desired but text condition config missing\"\n",
    "    assert 'text_embed_dim' in condition_config['text_condition_config'], \"text_embed_dim missing in text condition config\""
   ]
  },
  {
   "cell_type": "code",
   "execution_count": 32,
   "metadata": {
    "execution": {
     "iopub.execute_input": "2024-08-03T06:27:01.558143Z",
     "iopub.status.busy": "2024-08-03T06:27:01.557223Z",
     "iopub.status.idle": "2024-08-03T06:27:01.563360Z",
     "shell.execute_reply": "2024-08-03T06:27:01.562418Z",
     "shell.execute_reply.started": "2024-08-03T06:27:01.558112Z"
    },
    "id": "yyagjC-6lVpY"
   },
   "outputs": [],
   "source": [
    "def load_latents(latent_path):\n",
    "    latent_maps = {}\n",
    "    for fname in glob.glob(os.path.join(latent_path, '*.pkl')):\n",
    "        s = pickle.load(open(fname, 'rb'))\n",
    "        for k, v in s.items():\n",
    "            latent_maps[k] = v[0]\n",
    "    return latent_maps"
   ]
  },
  {
   "cell_type": "code",
   "execution_count": 33,
   "metadata": {
    "execution": {
     "iopub.execute_input": "2024-08-03T06:27:03.470993Z",
     "iopub.status.busy": "2024-08-03T06:27:03.470299Z",
     "iopub.status.idle": "2024-08-03T06:27:03.476707Z",
     "shell.execute_reply": "2024-08-03T06:27:03.475611Z",
     "shell.execute_reply.started": "2024-08-03T06:27:03.470959Z"
    }
   },
   "outputs": [],
   "source": [
    "def drop_text_condition(text_embed, im, empty_text_embed, text_drop_prob):\n",
    "    if text_drop_prob > 0:\n",
    "        text_drop_mask = torch.zeros((im.shape[0]), device=im.device).float().uniform_(0,\n",
    "                                                                                       1) < text_drop_prob\n",
    "        assert empty_text_embed is not None, (\"Text Conditioning required as well as text dropping but empty text representation not created\")\n",
    "        text_embed[text_drop_mask, :, :] = empty_text_embed[0]\n",
    "    return text_embed\n"
   ]
  },
  {
   "cell_type": "code",
   "execution_count": 34,
   "metadata": {
    "execution": {
     "iopub.execute_input": "2024-08-03T06:27:05.248027Z",
     "iopub.status.busy": "2024-08-03T06:27:05.247386Z",
     "iopub.status.idle": "2024-08-03T06:27:05.256963Z",
     "shell.execute_reply": "2024-08-03T06:27:05.255919Z",
     "shell.execute_reply.started": "2024-08-03T06:27:05.247997Z"
    }
   },
   "outputs": [],
   "source": [
    "from transformers import DistilBertModel, DistilBertTokenizer, CLIPTokenizer, CLIPTextModel\n",
    "\n",
    "\n",
    "def get_tokenizer_and_model(model_type, device, eval_mode=True):\n",
    "    assert model_type in ('bert', 'clip'), \"Text model can only be one of clip or bert\"\n",
    "    if model_type == 'bert':\n",
    "        text_tokenizer = DistilBertTokenizer.from_pretrained('distilbert-base-uncased')\n",
    "        text_model = DistilBertModel.from_pretrained('distilbert-base-uncased').to(device)\n",
    "    else:\n",
    "        text_tokenizer = CLIPTokenizer.from_pretrained('openai/clip-vit-base-patch16')\n",
    "        text_model = CLIPTextModel.from_pretrained('openai/clip-vit-base-patch16').to(device)\n",
    "    if eval_mode:\n",
    "        text_model.eval()\n",
    "    return text_tokenizer, text_model\n",
    "    \n",
    "\n",
    "def get_text_representation(text, text_tokenizer, text_model, device,\n",
    "                            truncation=True,\n",
    "                            padding='max_length',\n",
    "                            max_length=77):\n",
    "    token_output = text_tokenizer(text,\n",
    "                                  truncation=truncation,\n",
    "                                  padding=padding,\n",
    "                                  return_attention_mask=True,\n",
    "                                  max_length=max_length)\n",
    "    indexed_tokens = token_output['input_ids']\n",
    "    att_masks = token_output['attention_mask']\n",
    "    tokens_tensor = torch.tensor(indexed_tokens).to(device)\n",
    "    mask_tensor = torch.tensor(att_masks).to(device)\n",
    "    text_embed = text_model(tokens_tensor, attention_mask=mask_tensor).last_hidden_state\n",
    "    return text_embed"
   ]
  },
  {
   "cell_type": "markdown",
   "metadata": {
    "id": "3xTD5nkj9oUj"
   },
   "source": [
    "### **Dataset**"
   ]
  },
  {
   "cell_type": "code",
   "execution_count": 35,
   "metadata": {
    "execution": {
     "iopub.execute_input": "2024-08-03T06:27:07.782493Z",
     "iopub.status.busy": "2024-08-03T06:27:07.781784Z",
     "iopub.status.idle": "2024-08-03T06:27:07.790828Z",
     "shell.execute_reply": "2024-08-03T06:27:07.789855Z",
     "shell.execute_reply.started": "2024-08-03T06:27:07.782463Z"
    },
    "id": "TykgwB9j9rFA"
   },
   "outputs": [],
   "source": [
    "# class CelebDataset(Dataset):\n",
    "#     def __init__(self, split, im_path, im_size = 256, im_channels = 3, im_ext = 'jpg',\n",
    "#                  use_latents = False, latent_path = None, condition_config = None):\n",
    "#         self.split = split\n",
    "#         self.im_size = im_size\n",
    "#         self.im_channels = im_channels\n",
    "#         self.im_ext = im_ext\n",
    "#         self.im_path = im_path\n",
    "#         self.latent_maps = None\n",
    "#         self.use_latents = False\n",
    "\n",
    "#         self.condition_types = [] if condition_config is None else condition_config['condition_types']\n",
    "#         self.idx_to_cls_map = {}\n",
    "#         self.cls_to_idx_map = {}\n",
    "\n",
    "#         if 'image' in self.condition_types:\n",
    "#             self.mask_channels = condition_config['image_condition_config']['image_condition_input_channels']\n",
    "#             self.mask_h = condition_config['image_condition_config']['image_condition_h']\n",
    "#             self.mask_w = condition_config['image_condition_config']['image_condition_w']\n",
    "\n",
    "#         self.images, self.texts, self.masks = self.load_images(im_path)\n",
    "\n",
    "#         if use_latents and latent_path is not None:\n",
    "#             latent_maps = load_latents(latent_path)\n",
    "#             if len(latent_maps) == len(self.images):\n",
    "#                 self.use_latents = True\n",
    "#                 self.latent_maps = latent_maps\n",
    "#                 print('Found {} latents'.format(len(self.latent_maps)))\n",
    "#             else:\n",
    "#                 print('Latents not found')\n",
    "\n",
    "\n",
    "#     def load_images(self, im_path):\n",
    "#         assert os.path.exists(im_path), \"images path {} does not exist\".format(im_path)\n",
    "#         ims = []\n",
    "#         fnames = glob.glob(os.path.join(im_path, 'CelebA-HQ-img/*.{}'.format('png')))\n",
    "#         fnames += glob.glob(os.path.join(im_path, 'CelebA-HQ-img/*.{}'.format('jpg')))\n",
    "#         fnames += glob.glob(os.path.join(im_path, 'CelebA-HQ-img/*.{}'.format('jpeg')))\n",
    "#         texts = []\n",
    "#         masks = []\n",
    "#         if 'image' in self.condition_types:\n",
    "#             label_list = ['skin', 'nose', 'eye_g', 'l_eye', 'r_eye', 'l_brow', 'r_brow', 'l_ear', 'r_ear', 'mouth',\n",
    "#                           'u_lip', 'l_lip', 'hair', 'hat', 'ear_r', 'neck_l', 'neck', 'cloth']\n",
    "#             self.idx_to_cls_map = {idx: label_list[idx] for idx in range(len(label_list))}\n",
    "#             self.cls_to_idx_map = {label_list[idx]: idx for idx in range(len(label_list))}\n",
    "#         for fname in tqdm(fnames):\n",
    "#             ims.append(fname)\n",
    "\n",
    "#             if 'text' in self.condition_types:\n",
    "#                 im_name = os.path.split(fname)[1].split('.')[0]\n",
    "#                 captions_im = []\n",
    "#                 with open(os.path.join(im_path, 'celeba-caption/{}.txt'.format(im_name))) as f:\n",
    "#                     for line in f.readlines():\n",
    "#                         captions_im.append(line.strip())\n",
    "#                 texts.append(captions_im)\n",
    "\n",
    "#             if 'image' in self.condition_types:\n",
    "#                 im_name = int(os.path.split(fname)[1].split('.')[0])\n",
    "#                 masks.append(os.path.join(im_path, 'CelebAMask-HQ-mask', '{}.png'.format(im_name)))\n",
    "#         if 'text' in self.condition_types:\n",
    "#             assert len(texts) == len(ims), \"Condition Type Text but could not find captions for all images\"\n",
    "#         if 'image' in self.condition_types:\n",
    "#             assert len(masks) == len(ims), \"Condition Type Image but could not find masks for all images\"\n",
    "#         print('Found {} images'.format(len(ims)))\n",
    "#         print('Found {} masks'.format(len(masks)))\n",
    "#         print('Found {} captions'.format(len(texts)))\n",
    "#         return ims, texts, masks\n",
    "\n",
    "#     def get_mask(self, index):\n",
    "#         mask_im = Image.open(self.masks[index])\n",
    "#         mask_im = np.array(mask_im)\n",
    "#         im_base = np.zeros((self.mask_h, self.mask_w, self.mask_channels))\n",
    "#         for orig_idx in range(len(self.idx_to_cls_map)):\n",
    "#             im_base[mask_im == (orig_idx+1), orig_idx] = 1\n",
    "#         mask = torch.from_numpy(im_base).permute(2, 0, 1).float()\n",
    "#         return mask\n",
    "#     def __len__(self):\n",
    "#         return len(self.images)\n",
    "\n",
    "#     def __getitem__(self, index):\n",
    "#         cond_inputs = {}\n",
    "#         if 'text' in self.condition_types:\n",
    "#             cond_inputs['text'] = random.sample(self.texts[index], k=1)[0]\n",
    "#         if 'image' in self.condition_types:\n",
    "#             mask = self.get_mask(index)\n",
    "#             cond_inputs['image'] = mask\n",
    "#             if self.use_latents:\n",
    "#                 latent = self.latent_maps[self.images[index]]\n",
    "#             if len(self.condition_types) == 0:\n",
    "#                 return latent\n",
    "#             else:\n",
    "#                 return latent, cond_inputs\n",
    "#         else:\n",
    "#             im = Image.open(self.images[index])\n",
    "#             im_tensor = torchvision.transforms.Compose([\n",
    "#                 torchvision.transforms.Resize(self.im_size),\n",
    "#                 torchvision.transforms.CenterCrop(self.im_size),\n",
    "#                 torchvision.transforms.ToTensor(),\n",
    "#             ])(im)\n",
    "#             im.close()\n",
    "#             im_tensor = (2 * im_tensor) - 1\n",
    "#             if len(self.condition_types) == 0:\n",
    "#                 return im_tensor\n",
    "#             else:\n",
    "#                 return im_tensor, cond_inputs"
   ]
  },
  {
   "cell_type": "markdown",
   "metadata": {
    "id": "JVXJFawA5nQC"
   },
   "source": [
    "### **# Blocks**"
   ]
  },
  {
   "cell_type": "code",
   "execution_count": 36,
   "metadata": {
    "execution": {
     "iopub.execute_input": "2024-08-03T06:27:10.676749Z",
     "iopub.status.busy": "2024-08-03T06:27:10.675762Z",
     "iopub.status.idle": "2024-08-03T06:27:10.684385Z",
     "shell.execute_reply": "2024-08-03T06:27:10.683224Z",
     "shell.execute_reply.started": "2024-08-03T06:27:10.676703Z"
    },
    "id": "Un_EcXJCPJxo"
   },
   "outputs": [],
   "source": [
    "def get_time_embedding(time_steps, temb_dim):\n",
    "    assert temb_dim % 2 == 0, 'time embedding dimension must be divisible by 2'\n",
    "    factor = 10000 ** ((torch.arange(\n",
    "        start = 0, end = temb_dim // 2, dtype = torch.float32, device = time_steps.device) / (temb_dim // 2))\n",
    "    )\n",
    "    t_emb = time_steps[:, None].repeat(1, temb_dim // 2) / factor\n",
    "    t_emb = torch.cat([torch.sin(t_emb), torch.cos(t_emb)], dim = -1)\n",
    "    return t_emb"
   ]
  },
  {
   "cell_type": "code",
   "execution_count": 37,
   "metadata": {
    "execution": {
     "iopub.execute_input": "2024-08-03T06:27:12.331049Z",
     "iopub.status.busy": "2024-08-03T06:27:12.330601Z",
     "iopub.status.idle": "2024-08-03T06:27:12.357574Z",
     "shell.execute_reply": "2024-08-03T06:27:12.356529Z",
     "shell.execute_reply.started": "2024-08-03T06:27:12.331013Z"
    },
    "id": "sYr1eIPMQTQC"
   },
   "outputs": [],
   "source": [
    "class DownBlock(nn.Module):\n",
    "\n",
    "    def __init__(self, in_channels, out_channels, t_emb_dim, down_sample, num_heads, num_layers, attn, norm_channels, cross_attn = False, context_dim = None):\n",
    "        super().__init__()\n",
    "        self.num_layers = num_layers\n",
    "        self.down_sample = down_sample\n",
    "        self.attn = attn\n",
    "        self.context_dim = context_dim\n",
    "        self.cross_attn = cross_attn\n",
    "        self.t_emb_dim = t_emb_dim\n",
    "        self.resnet_conv_first = nn.ModuleList(\n",
    "            [\n",
    "                nn.Sequential(\n",
    "                    nn.GroupNorm(norm_channels, in_channels if i == 0 else out_channels),\n",
    "                    nn.SiLU(),\n",
    "                    nn.Conv2d(in_channels if i == 0 else out_channels, out_channels, kernel_size = 3, stride = 1, padding = 1)\n",
    "                )\n",
    "                for i in range(num_layers)\n",
    "            ]\n",
    "        )\n",
    "        if self.t_emb_dim is not None:\n",
    "            self.t_emb_layers = nn.ModuleList([\n",
    "                nn.Sequential(\n",
    "                    nn.SiLU(),\n",
    "                    nn.Linear(self.t_emb_dim, out_channels)\n",
    "                )\n",
    "                for _ in range(num_layers)\n",
    "            ])\n",
    "        self.resnet_conv_second = nn.ModuleList(\n",
    "            [\n",
    "                nn.Sequential(\n",
    "                    nn.GroupNorm(norm_channels, out_channels),\n",
    "                    nn.SiLU(),\n",
    "                    nn.Conv2d(out_channels, out_channels, kernel_size = 3, stride = 1, padding = 1)\n",
    "                )\n",
    "                for _ in range(num_layers)\n",
    "            ]\n",
    "        )\n",
    "        if self.attn:\n",
    "            self.attention_norms = nn.ModuleList(\n",
    "                [nn.GroupNorm(norm_channels, out_channels)\n",
    "                for _ in range(num_layers)]\n",
    "            )\n",
    "            self.attentions = nn.ModuleList(\n",
    "                [nn.MultiheadAttention(out_channels, num_heads, batch_first = True)\n",
    "                for _ in range(num_layers)]\n",
    "            )\n",
    "        if self.cross_attn:\n",
    "            assert context_dim is not None, \"Context dimension must be passed for cross attention\"\n",
    "            self.cross_attention_norms = nn.ModuleList(\n",
    "                [nn.GroupNorm(norm_channels, out_channels)\n",
    "                for _ in range(num_layers)]\n",
    "            )\n",
    "            self.cross_attentions = nn.ModuleList(\n",
    "                [nn.MultiheadAttention(out_channels, num_heads, batch_first = True)\n",
    "                for _ in range(num_layers)]\n",
    "            )\n",
    "            self.context_proj = nn.ModuleList(\n",
    "                [nn.Linear(context_dim, out_channels)\n",
    "                for _ in range(num_layers)]\n",
    "            )\n",
    "        self.residual_input_conv = nn.ModuleList(\n",
    "            [\n",
    "                nn.Conv2d(in_channels if i == 0 else out_channels, out_channels, kernel_size = 1)\n",
    "                for i in range(num_layers)\n",
    "            ]\n",
    "        )\n",
    "        self.down_sample_conv = nn.Conv2d(out_channels, out_channels, 4, 2, 1) if self.down_sample else nn.Identity()\n",
    "\n",
    "    def forward(self, x, t_emb = None, context = None):\n",
    "        out = x\n",
    "#         print(out.size())\n",
    "        for i in range(self.num_layers):\n",
    "            resnet_input = out\n",
    "            out = self.resnet_conv_first[i](out)\n",
    "            if self.t_emb_dim is not None:\n",
    "                out = out + self.t_emb_layers[i](t_emb)[:, :, None, None]\n",
    "            out = self.resnet_conv_second[i](out)\n",
    "            out = out + self.residual_input_conv[i](resnet_input)\n",
    "\n",
    "            if self.attn:\n",
    "                batch_size, channels, h, w = out.shape\n",
    "                in_attn = out.reshape(batch_size, channels, h * w)\n",
    "                in_attn = self.attention_norms[i](in_attn)\n",
    "                in_attn = in_attn.transpose(1, 2)\n",
    "                out_attn, _ = self.attentions[i](in_attn , in_attn, in_attn)\n",
    "                out_attn = out_attn.transpose(1, 2).reshape(batch_size, channels, h, w)\n",
    "                out = out + out_attn\n",
    "\n",
    "            if self.cross_attn:\n",
    "                assert context is not None, \"context cannot be none if cross attention layers are used\"\n",
    "                batch_size, channels, h, w = out.shape\n",
    "                in_attn = out.reshape(batch_size, channels, h * w)\n",
    "                in_attn = self.cross_attention_norms[i](in_attn)\n",
    "                in_attn = in_attn.transpose(1, 2)\n",
    "                assert context.shape[0] == x.shape[0] and context.shape[-1] == self.context_dim\n",
    "                context_proj = self.context_proj[i](context)\n",
    "                out_attn, _ = self.cross_attentions[i](in_attn, context_proj, context_proj)\n",
    "                out_attn = out_attn.transpose(1, 2).reshape(batch_size, channels, h, w)\n",
    "                out = out + out_attn\n",
    "        out = self.down_sample_conv(out)\n",
    "        return out\n",
    "\n"
   ]
  },
  {
   "cell_type": "code",
   "execution_count": 38,
   "metadata": {
    "execution": {
     "iopub.execute_input": "2024-08-03T06:27:15.924763Z",
     "iopub.status.busy": "2024-08-03T06:27:15.924077Z",
     "iopub.status.idle": "2024-08-03T06:27:15.947667Z",
     "shell.execute_reply": "2024-08-03T06:27:15.946574Z",
     "shell.execute_reply.started": "2024-08-03T06:27:15.924729Z"
    },
    "id": "yjs-2loKWzZz"
   },
   "outputs": [],
   "source": [
    "class MidBlock(nn.Module):\n",
    "    def __init__(self, in_channels, out_channels, t_emb_dim, num_heads, num_layers, norm_channels, cross_attn = None, context_dim = None):\n",
    "        super().__init__()\n",
    "        self.num_layers = num_layers\n",
    "        self.t_emb_dim = t_emb_dim\n",
    "        self.context_dim = context_dim\n",
    "        self.cross_attn = cross_attn\n",
    "        self.resnet_conv_first = nn.ModuleList(\n",
    "            [\n",
    "                nn.Sequential(\n",
    "                    nn.GroupNorm(norm_channels, in_channels if i == 0 else out_channels),\n",
    "                    nn.SiLU(),\n",
    "                    nn.Conv2d(in_channels if i == 0 else out_channels, out_channels, kernel_size = 3, stride = 1, padding = 1),\n",
    "                )\n",
    "                for i in range(num_layers + 1)\n",
    "            ]\n",
    "        )\n",
    "        if self.t_emb_dim is not None:\n",
    "            self.t_emb_layers = nn.ModuleList([\n",
    "                nn.Sequential(\n",
    "                    nn.SiLU(),\n",
    "                    nn.Linear(t_emb_dim, out_channels)\n",
    "                )\n",
    "                for _ in range(num_layers + 1)\n",
    "            ])\n",
    "        self.resnet_conv_second = nn.ModuleList(\n",
    "            [\n",
    "                nn.Sequential(\n",
    "                    nn.GroupNorm(norm_channels, out_channels),\n",
    "                    nn.SiLU(),\n",
    "                    nn.Conv2d(out_channels, out_channels, kernel_size=3, stride=1, padding=1),\n",
    "                )\n",
    "                for _ in range(num_layers + 1)\n",
    "            ]\n",
    "        )\n",
    "        self.attention_norms = nn.ModuleList(\n",
    "            [nn.GroupNorm(norm_channels, out_channels)\n",
    "            for _ in range(num_layers)]\n",
    "        )\n",
    "        self.attentions = nn.ModuleList(\n",
    "            [nn.MultiheadAttention(out_channels, num_heads, batch_first = True)\n",
    "            for _ in range(num_layers)]\n",
    "        )\n",
    "        if self.cross_attn:\n",
    "            assert context_dim is not None, \"Context dimension must be passed for cross attention\"\n",
    "            self.cross_attention_norms = nn.ModuleList(\n",
    "                [nn.GroupNorm(norm_channels, out_channels)\n",
    "                for _ in range(num_layers)]\n",
    "            )\n",
    "            self.cross_attentions = nn.ModuleList(\n",
    "                [nn.MultiheadAttention(out_channels, num_heads, batch_first = True)\n",
    "                for _ in range(num_layers)]\n",
    "            )\n",
    "            self.context_proj = nn.ModuleList(\n",
    "                [nn.Linear(context_dim, out_channels)\n",
    "                for _ in range(num_layers)]\n",
    "            )\n",
    "        self.residual_input_conv = nn.ModuleList(\n",
    "            [\n",
    "                nn.Conv2d(in_channels if i == 0 else out_channels, out_channels, kernel_size = 1)\n",
    "                for i in range(num_layers + 1)\n",
    "            ]\n",
    "        )\n",
    "\n",
    "    def forward(self, x, t_emb = None, context = None):\n",
    "        out = x\n",
    "        resnet_input = out\n",
    "        out = self.resnet_conv_first[0](out)\n",
    "        if self.t_emb_dim is not None:\n",
    "            out = out + self.t_emb_layers[0](t_emb)[:, :, None, None]\n",
    "        out = self.resnet_conv_second[0](out)\n",
    "        out = out + self.residual_input_conv[0](resnet_input)\n",
    "\n",
    "        for i in range(self.num_layers):\n",
    "            batch_size, channels, h, w = out.shape\n",
    "            in_attn = out.reshape(batch_size, channels, h * w)\n",
    "            in_attn = self.attention_norms[i](in_attn)\n",
    "            in_attn = in_attn.transpose(1, 2)\n",
    "            out_attn, _ = self.attentions[i](in_attn, in_attn, in_attn)\n",
    "            out_attn = out_attn.transpose(1, 2).reshape(batch_size, channels, h, w)\n",
    "            out = out + out_attn\n",
    "\n",
    "            if self.cross_attn:\n",
    "                assert context is not None, \"context cannot be none if cross attention layers are used\"\n",
    "                batch_size, channels, h, w = out.shape\n",
    "                in_attn = out.reshape(batch_size, channels, h * w)\n",
    "                in_attn = self.cross_attention_norms[i](in_attn)\n",
    "                in_attn = in_attn.transpose(1, 2)\n",
    "                assert context.shape[0] == x.shape[0] and context.shape[-1] == self.context_dim\n",
    "                context_proj = self.context_proj[i](context)\n",
    "                out_attn, _ = self.cross_attentions[i](in_attn, context_proj, context_proj)\n",
    "                out_attn = out_attn.transpose(1, 2).reshape(batch_size, channels, h, w)\n",
    "                out = out + out_attn\n",
    "\n",
    "            resnet_input = out\n",
    "            out = self.resnet_conv_first[i + 1](out)\n",
    "            if self.t_emb_dim is not None:\n",
    "                out = out + self.t_emb_layers[i + 1](t_emb)[:, :, None, None]\n",
    "            out = self.resnet_conv_second[i + 1](out)\n",
    "            out = out + self.residual_input_conv[i + 1](resnet_input)\n",
    "\n",
    "        return out\n",
    "\n"
   ]
  },
  {
   "cell_type": "code",
   "execution_count": 39,
   "metadata": {
    "execution": {
     "iopub.execute_input": "2024-08-03T06:27:18.776995Z",
     "iopub.status.busy": "2024-08-03T06:27:18.776293Z",
     "iopub.status.idle": "2024-08-03T06:27:18.792894Z",
     "shell.execute_reply": "2024-08-03T06:27:18.792079Z",
     "shell.execute_reply.started": "2024-08-03T06:27:18.776965Z"
    },
    "id": "S7ornCCStdLk"
   },
   "outputs": [],
   "source": [
    "class UpBlock(nn.Module):\n",
    "\n",
    "    def __init__(self, in_channels, out_channels, t_emb_dim, up_sample, num_heads, num_layers, attn, norm_channels):\n",
    "        super().__init__()\n",
    "        self.num_layers = num_layers\n",
    "        self.up_sample = up_sample\n",
    "        self.t_emb_dim = t_emb_dim\n",
    "        self.attn = attn\n",
    "        self.resnet_conv_first = nn.ModuleList(\n",
    "            [\n",
    "                nn.Sequential(\n",
    "                    nn.GroupNorm(norm_channels, in_channels if i == 0 else out_channels),\n",
    "                    nn.SiLU(),\n",
    "                    nn.Conv2d(in_channels if i == 0 else out_channels, out_channels, kernel_size = 3, stride = 1, padding = 1)\n",
    "                )\n",
    "                for i in range(num_layers)\n",
    "            ]\n",
    "        )\n",
    "        if self.t_emb_dim is not None:\n",
    "            self.t_emb_layers = nn.ModuleList([\n",
    "                nn.Sequential(\n",
    "                    nn.SiLU(),\n",
    "                    nn.Linear(t_emb_dim, out_channels)\n",
    "                )\n",
    "                for _ in range(num_layers)\n",
    "            ])\n",
    "        self.resnet_conv_second = nn.ModuleList([\n",
    "            nn.Sequential(\n",
    "                nn.GroupNorm(norm_channels, out_channels),\n",
    "                nn.SiLU(),\n",
    "                nn.Conv2d(out_channels, out_channels, kernel_size = 3, stride = 1, padding = 1)\n",
    "            )\n",
    "            for _ in range(num_layers)\n",
    "        ])\n",
    "        if self.attn:\n",
    "            self.attention_norms = nn.ModuleList(\n",
    "                [nn.GroupNorm(norm_channels, out_channels)\n",
    "                for _ in range(num_layers)]\n",
    "            )\n",
    "            self.attentions = nn.ModuleList(\n",
    "                [nn.MultiheadAttention(out_channels, num_heads, batch_first = True)\n",
    "                for _ in range(num_layers)]\n",
    "            )\n",
    "        self.residual_input_conv = nn.ModuleList(\n",
    "            [nn.Conv2d(in_channels if i == 0 else out_channels, out_channels, kernel_size = 1)\n",
    "            for i in range(num_layers)]\n",
    "        )\n",
    "        self.up_sample_conv = nn.ConvTranspose2d(in_channels, in_channels, 4, 2, 1) if self.up_sample else nn.Identity()\n",
    "\n",
    "    def forward(self, x, out_down = None, t_emb = None):\n",
    "        x = self.up_sample_conv(x)\n",
    "        if out_down is not None:\n",
    "            x = torch.cat([x, out_down], dim = 1)\n",
    "        out = x\n",
    "        for i in range(self.num_layers):\n",
    "            resnet_input = out\n",
    "            out = self.resnet_conv_first[i](out)\n",
    "            if self.t_emb_dim is not None:\n",
    "                out = out + self.t_emb_layers[i](t_emb)[:, :, None, None]\n",
    "            out = self.resnet_conv_second[i](out)\n",
    "            out = out + self.residual_input_conv[i](resnet_input)\n",
    "\n",
    "            if self.attn:\n",
    "                batch_size, channels, h, w = out.shape\n",
    "                in_attn = out.reshape(batch_size, channels, h * w)\n",
    "                in_attn = self.attention_norms[i](in_attn)\n",
    "                in_attn = in_attn.transpose(1, 2)\n",
    "                out_attn, _ = self.attentions[i](in_attn, in_attn, in_attn)\n",
    "                out_attn = out_attn.tranpose(1, 2).reshape(batch_size, channels, h, w)\n",
    "                out = out + out_attn\n",
    "        return out\n",
    "\n"
   ]
  },
  {
   "cell_type": "code",
   "execution_count": 40,
   "metadata": {
    "execution": {
     "iopub.execute_input": "2024-08-03T06:27:21.812010Z",
     "iopub.status.busy": "2024-08-03T06:27:21.811691Z",
     "iopub.status.idle": "2024-08-03T06:27:21.835624Z",
     "shell.execute_reply": "2024-08-03T06:27:21.834715Z",
     "shell.execute_reply.started": "2024-08-03T06:27:21.811985Z"
    },
    "id": "JvpvXwf004ph"
   },
   "outputs": [],
   "source": [
    "class UpBlockUnet(nn.Module):\n",
    "\n",
    "    def __init__(self, in_channels, out_channels, t_emb_dim, up_sample, num_heads, num_layers, norm_channels,\n",
    "                    cross_attn = False, context_dim = None):\n",
    "        super().__init__()\n",
    "        self.num_layers = num_layers\n",
    "        self.up_sample = up_sample\n",
    "        self.t_emb_dim = t_emb_dim\n",
    "        self.cross_attn = cross_attn\n",
    "        self.context_dim = context_dim\n",
    "        self.resnet_conv_first = nn.ModuleList(\n",
    "            [\n",
    "                nn.Sequential(\n",
    "                    nn.GroupNorm(norm_channels, in_channels if i == 0 else out_channels),\n",
    "                    nn.SiLU(),\n",
    "                    nn.Conv2d(in_channels if i == 0 else out_channels, out_channels, kernel_size = 3, stride = 1, padding = 1),\n",
    "                )\n",
    "                for i in range(num_layers)\n",
    "            ]\n",
    "        )\n",
    "        if self.t_emb_dim is not None:\n",
    "            self.t_emb_layers = nn.ModuleList([\n",
    "                nn.Sequential(\n",
    "                    nn.SiLU(),\n",
    "                    nn.Linear(t_emb_dim, out_channels)\n",
    "                )\n",
    "                for _ in range(num_layers)\n",
    "            ])\n",
    "\n",
    "        self.resnet_conv_second = nn.ModuleList(\n",
    "            [\n",
    "                nn.Sequential(\n",
    "                    nn.GroupNorm(norm_channels, out_channels),\n",
    "                    nn.SiLU(),\n",
    "                    nn.Conv2d(out_channels, out_channels, kernel_size=3, stride=1, padding=1),\n",
    "                )\n",
    "                for _ in range(num_layers)\n",
    "            ]\n",
    "        )\n",
    "#         if self.attn:\n",
    "#             self.attention_norms = nn.ModuleList(\n",
    "#                 [\n",
    "#                     nn.GroupNorm(norm_channels, out_channels)\n",
    "#                     for _ in range(num_layers)\n",
    "#                 ]\n",
    "#             )\n",
    "\n",
    "#             self.attentions = nn.ModuleList(\n",
    "#                 [\n",
    "#                     nn.MultiheadAttention(out_channels, num_heads, batch_first=True)\n",
    "#                     for _ in range(num_layers)\n",
    "#                 ]\n",
    "#             )\n",
    "\n",
    "#         if self.cross_attn:\n",
    "#             assert context_dim is not None, \"Context Dimension must be passed for cross attention\"\n",
    "#             self.cross_attention_norms = nn.ModuleList(\n",
    "#                 [nn.GroupNorm(norm_channels, out_channels)\n",
    "#                 for _ in range(num_layers)]\n",
    "#             )\n",
    "#             self.cross_attentions = nn.ModuleList(\n",
    "#                 [nn.MultiheadAttention(out_channels, num_heads, batch_first=True)\n",
    "#                 for _ in range(num_layers)]\n",
    "#             )\n",
    "#             self.context_proj = nn.ModuleList(\n",
    "#                 [nn.Linear(context_dim, out_channels)\n",
    "#                 for _ in range(num_layers)]\n",
    "#             )\n",
    "        self.attention_norms = nn.ModuleList(\n",
    "            [\n",
    "                nn.GroupNorm(norm_channels, out_channels)\n",
    "                for _ in range(num_layers)\n",
    "            ]\n",
    "        )\n",
    "        self.attentions = nn.ModuleList(\n",
    "            [\n",
    "                nn.MultiheadAttention(out_channels, num_heads, batch_first = True)\n",
    "                for _ in range(num_layers)\n",
    "            ]\n",
    "        )\n",
    "        \n",
    "        if self.cross_attn:\n",
    "            assert context_dim is not None, \"Context dimension must be passed for cross attention\"\n",
    "            self.cross_attention_norms = nn.ModuleList(\n",
    "                [\n",
    "                    nn.GroupNorm(norm_channels, out_channels)\n",
    "                    for _ in range(num_layers)\n",
    "                ]\n",
    "            )\n",
    "            self.cross_attentions = nn.ModuleList(\n",
    "                [\n",
    "                    nn.MultiheadAttention(out_channels, num_heads, batch_first = True)\n",
    "                    for _ in range(num_layers)\n",
    "                ]\n",
    "            )\n",
    "            self.context_proj = nn.ModuleList(\n",
    "                [\n",
    "                    nn.Linear(context_dim, out_channels)\n",
    "                    for _ in range(num_layers)\n",
    "                ]\n",
    "            )\n",
    "            \n",
    "        self.residual_input_conv = nn.ModuleList(\n",
    "            [nn.Conv2d(in_channels if i == 0 else out_channels, out_channels, kernel_size=1)\n",
    "            for i in range(num_layers)]\n",
    "        )\n",
    "        self.up_sample_conv = nn.ConvTranspose2d(in_channels // 2, in_channels // 2, 4, 2, 1) if self.up_sample else nn.Identity()\n",
    "\n",
    "    def forward(self, x, out_down=None, t_emb=None, context=None):\n",
    "        x = self.up_sample_conv(x)\n",
    "        if out_down is not None:\n",
    "            x = torch.cat([x, out_down], dim=1)\n",
    "\n",
    "        out = x\n",
    "        for i in range(self.num_layers):\n",
    "            resnet_input = out\n",
    "            out = self.resnet_conv_first[i](out)\n",
    "            if self.t_emb_dim is not None:\n",
    "                out = out + self.t_emb_layers[i](t_emb)[:, :, None, None]\n",
    "            out = self.resnet_conv_second[i](out)\n",
    "            out = out + self.residual_input_conv[i](resnet_input)\n",
    "            batch_size, channels, h, w = out.shape\n",
    "            in_attn = out.reshape(batch_size, channels, h * w)\n",
    "            in_attn = self.attention_norms[i](in_attn)\n",
    "            in_attn = in_attn.transpose(1, 2)\n",
    "            out_attn, _ = self.attentions[i](in_attn, in_attn, in_attn)\n",
    "            out_attn = out_attn.transpose(1, 2).reshape(batch_size, channels, h, w)\n",
    "            out = out + out_attn\n",
    "\n",
    "            if self.cross_attn:\n",
    "                assert context is not None, \"context cannot be None if cross attention layers are used\"\n",
    "                batch_size, channels, h, w = out.shape\n",
    "                in_attn = out.reshape(batch_size, channels, h * w)\n",
    "                in_attn = self.cross_attention_norms[i](in_attn)\n",
    "                in_attn = in_attn.transpose(1, 2)\n",
    "                assert len(context.shape) == 3, \"Context shape does not match B,_,CONTEXT_DIM\"\n",
    "                assert context.shape[0] == x.shape[0] and context.shape[-1] == self.context_dim,\"Context shape does not match B,_,CONTEXT_DIM\"\n",
    "                context_proj = self.context_proj[i](context)\n",
    "                out_attn, _ = self.cross_attentions[i](in_attn, context_proj, context_proj)\n",
    "                out_attn = out_attn.transpose(1, 2).reshape(batch_size, channels, h, w)\n",
    "                out = out + out_attn\n",
    "\n",
    "        return out"
   ]
  },
  {
   "cell_type": "markdown",
   "metadata": {
    "id": "9LoSTq_QwyFx"
   },
   "source": [
    "### **UNET**"
   ]
  },
  {
   "cell_type": "code",
   "execution_count": 41,
   "metadata": {
    "execution": {
     "iopub.execute_input": "2024-08-03T06:27:26.505412Z",
     "iopub.status.busy": "2024-08-03T06:27:26.504829Z",
     "iopub.status.idle": "2024-08-03T06:27:26.512101Z",
     "shell.execute_reply": "2024-08-03T06:27:26.511149Z",
     "shell.execute_reply.started": "2024-08-03T06:27:26.505382Z"
    },
    "id": "10KdygKaw1E2"
   },
   "outputs": [],
   "source": [
    "# class Unet(nn.Module):\n",
    "#     def __init__(self, im_channels, model_config):\n",
    "#         super().__init__()\n",
    "#         self.down_channels = model_config['down_channels']\n",
    "#         self.mid_channels = model_config['mid_channels']\n",
    "#         self.t_emb_dim = model_config['time_emb_dim']\n",
    "#         self.down_sample = model_config['down_sample']\n",
    "#         self.num_down_layers = model_config['num_down_layers']\n",
    "#         self.num_mid_layers = model_config['num_mid_layers']\n",
    "#         self.num_up_layers = model_config['num_up_layers']\n",
    "#         self.attns = model_config['attn_down']\n",
    "#         self.norm_channels = model_config['norm_channels']\n",
    "#         self.num_heads = model_config['num_heads']\n",
    "#         self.conv_out_channels = model_config['conv_out_channels']\n",
    "\n",
    "#         assert self.mid_channels[0] == self.down_channels[-1]\n",
    "#         assert self.mid_channels[-1] == self.down_channels[-2]\n",
    "#         assert len(self.down_sample) == len(self.down_channels) - 1\n",
    "#         assert len(self.attns) == len(self.down_channels) - 1\n",
    "\n",
    "#         self.text_cond = False\n",
    "#         self.text_embed_dim = None\n",
    "#         self.condition_config = get_config_value(model_config, 'condition_config', None)\n",
    "        \n",
    "#         self.t_proj = nn.Sequential(\n",
    "#             nn.Linear(self.t_emb_dim, self.t_emb_dim),\n",
    "#             nn.SiLU(),\n",
    "#             nn.Linear(self.t_emb_dim, self.t_emb_dim)\n",
    "#         )\n",
    "#         self.up_sample = list(reversed(self.down_sample))\n",
    "#         self.conv_in = nn.Conv2d(im_channels, self.down_channels[0], kernel_size=3, padding=1)\n",
    "#         self.downs = nn.ModuleList([])\n",
    "#         for i in range(len(self.down_channels) - 1):\n",
    "#             self.downs.append(DownBlock(self.down_channels[i], self.down_channels[i + 1], self.t_emb_dim,\n",
    "#                                         down_sample = self.down_sample[i], nums_head = self.nums_head,\n",
    "#                                         num_layers = self.num_down_layers,\n",
    "#                                         attn = self.attns[i], norm_channels = self.norm_channels))\n",
    "#         self.mids = nn.ModuleList([])\n",
    "#         for i in range(len(self.mid_channels) - 1):\n",
    "#             self.mids.append(MidBlock(self.mid_channels[i], self.mid_channels[i + 1], self.t_emb_dim,\n",
    "#                                         num_heads = self.num_heads, num_layers = self.num_mid_layers,\n",
    "#                                         norm_channels = self.norm_channels))\n",
    "#         self.ups = nn.ModuleList([])\n",
    "#         for i in reversed(range(len(self.down_channels) - 1)):\n",
    "#             self.ups.append(UpBlockUnet(self.down_channels[i] * 2, self.down_channels[i - 1] if i != 0 else self.conv_out_channels,\n",
    "#                                         self.t_emb_dim, up_sample = self.down_sample[i], num_heads = self.num_heads,\n",
    "#                                         num_layers = self.num_layers, norm_channels = self.norm_channels))\n",
    "#         self.norm_out = nn.GroupNorm(self.norm_channels, self.conv_out_channels)\n",
    "#         self.conv_out = nn.Conv2d(self.conv_out_channels, im_channels, kernel_size = 3, padding = 1)\n",
    "\n",
    "#     def forward(self, x, t):\n",
    "#         out = self.conv_in(x)\n",
    "#         t_emb = get_time_embedding(torch.as_tensor(t).long(), self.t_emb_dim)\n",
    "#         t_emb = self.t_proj(t_emb)\n",
    "#         down_outs = []\n",
    "#         for idx, down in enumerate(self.downs):\n",
    "#             down_outs.append(out)\n",
    "#             out = down(out, t_emb)\n",
    "#         for mid in self.mids:\n",
    "#             out = mid(out, t_emb)\n",
    "#         for up in self.ups:\n",
    "#             down_out = down_outs.pop()\n",
    "#             out = up(out, down_out, t_emb)\n",
    "#         out = self.norm_out(out)\n",
    "#         out = nn.SiLU()(out)\n",
    "#         return out"
   ]
  },
  {
   "cell_type": "code",
   "execution_count": 42,
   "metadata": {
    "execution": {
     "iopub.execute_input": "2024-08-03T06:27:29.672723Z",
     "iopub.status.busy": "2024-08-03T06:27:29.672340Z",
     "iopub.status.idle": "2024-08-03T06:27:29.695130Z",
     "shell.execute_reply": "2024-08-03T06:27:29.694126Z",
     "shell.execute_reply.started": "2024-08-03T06:27:29.672696Z"
    }
   },
   "outputs": [],
   "source": [
    "class Unet(nn.Module):\n",
    "    def __init__(self, im_channels, model_config):\n",
    "        super().__init__()\n",
    "        self.down_channels = model_config['down_channels']\n",
    "        self.mid_channels = model_config['mid_channels']\n",
    "        self.t_emb_dim = model_config['time_emb_dim']\n",
    "        self.down_sample = model_config['down_sample']\n",
    "        self.num_down_layers = model_config['num_down_layers']\n",
    "        self.num_mid_layers = model_config['num_mid_layers']\n",
    "        self.num_up_layers = model_config['num_up_layers']\n",
    "        self.attns = model_config['attn_down']\n",
    "        self.norm_channels = model_config['norm_channels']\n",
    "        self.num_heads = model_config['num_heads']\n",
    "        self.conv_out_channels = model_config['conv_out_channels']\n",
    "\n",
    "        assert self.mid_channels[0] == self.down_channels[-1]\n",
    "        assert self.mid_channels[-1] == self.down_channels[-2]\n",
    "        assert len(self.down_sample) == len(self.down_channels) - 1\n",
    "        assert len(self.attns) == len(self.down_channels) - 1\n",
    "\n",
    "        self.text_cond = False\n",
    "        self.text_embed_dim = None\n",
    "        self.condition_config = get_config_value(model_config, 'condition_config', None)\n",
    "        \n",
    "        if self.condition_config is not None:\n",
    "            assert 'condition_types' in self.condition_config, 'Condition type not porvided in condition config'\n",
    "            condition_types = self.condition_config['condition_types']\n",
    "            if 'text' in condition_types:\n",
    "                validate_text_config(self.condition_config)\n",
    "                self.text_cond = True\n",
    "                self.text_embed_dim = self.condition_config['text_condition_config']['text_embed_dim']\n",
    "        \n",
    "        self.conv_in = nn.Conv2d(im_channels, self.down_channels[0], kernel_size = 3, padding = 1)\n",
    "        self.cond = self.text_cond\n",
    "        self.t_proj = nn.Sequential(\n",
    "            nn.Linear(self.t_emb_dim, self.t_emb_dim),\n",
    "            nn.SiLU(),\n",
    "            nn.Linear(self.t_emb_dim, self.t_emb_dim)\n",
    "        )\n",
    "        \n",
    "        self.up_sample = list(reversed(self.down_sample))\n",
    "        self.downs = nn.ModuleList([])\n",
    "        for i in range(len(self.down_channels) - 1):\n",
    "            self.downs.append(DownBlock(self.down_channels[i], self.down_channels[i + 1], self.t_emb_dim,\n",
    "                                        down_sample=self.down_sample[i],\n",
    "                                        num_heads=self.num_heads,\n",
    "                                        num_layers=self.num_down_layers,\n",
    "                                        attn=self.attns[i], norm_channels=self.norm_channels,\n",
    "                                        cross_attn=self.text_cond,\n",
    "                                        context_dim=self.text_embed_dim))\n",
    "        \n",
    "        self.mids = nn.ModuleList([])\n",
    "        for i in range(len(self.mid_channels) - 1):\n",
    "            self.mids.append(MidBlock(self.mid_channels[i], self.mid_channels[i + 1], self.t_emb_dim,\n",
    "                                      num_heads=self.num_heads,\n",
    "                                      num_layers=self.num_mid_layers,\n",
    "                                      norm_channels=self.norm_channels,\n",
    "                                      cross_attn=self.text_cond,\n",
    "                                      context_dim=self.text_embed_dim))\n",
    "                \n",
    "        self.ups = nn.ModuleList([])\n",
    "        for i in reversed(range(len(self.down_channels) - 1)):\n",
    "            self.ups.append(\n",
    "                UpBlockUnet(self.down_channels[i] * 2, self.down_channels[i - 1] if i != 0 else self.conv_out_channels,\n",
    "                            self.t_emb_dim, up_sample=self.down_sample[i],\n",
    "                            num_heads=self.num_heads,\n",
    "                            num_layers=self.num_up_layers,\n",
    "                            norm_channels=self.norm_channels,\n",
    "                            cross_attn=self.text_cond,\n",
    "                            context_dim=self.text_embed_dim))\n",
    "        \n",
    "        self.norm_out = nn.GroupNorm(self.norm_channels, self.conv_out_channels)\n",
    "        self.conv_out = nn.Conv2d(self.conv_out_channels, im_channels, kernel_size=3, padding=1)\n",
    "    \n",
    "    def forward(self, x, t, cond_input = None):\n",
    "        if self.cond:\n",
    "            assert cond_input is not None, 'Model initialised with conditioning so cond_input cannot be none'\n",
    "        \n",
    "        out = self.conv_in(x)\n",
    "        t_emb = get_time_embedding(torch.as_tensor(t).long(), self.t_emb_dim)\n",
    "        t_emb = self.t_proj(t_emb)\n",
    "        \n",
    "        context_hidden_states = None\n",
    "        if self.text_cond:\n",
    "            assert 'text' in cond_input, 'Model initialised with text conditioning but cond_input has no text information'\n",
    "            context_hidden_states= cond_input['text']\n",
    "        \n",
    "        down_outs = []\n",
    "        \n",
    "        for idx, down in enumerate(self.downs):\n",
    "            down_outs.append(out)\n",
    "            out = down(out, t_emb, context_hidden_states)\n",
    "        \n",
    "        for mid in self.mids:\n",
    "            out = mid(out, t_emb, context_hidden_states)\n",
    "        \n",
    "        for up in self.ups:\n",
    "            down_out = down_outs.pop()\n",
    "            out = up(out, down_out, t_emb, context_hidden_states)\n",
    "        out = self.norm_out(out)\n",
    "        out = nn.SiLU()(out)\n",
    "        out = self.conv_out(out)\n",
    "        return out"
   ]
  },
  {
   "cell_type": "markdown",
   "metadata": {
    "id": "XSGSejXS_UnH"
   },
   "source": [
    "### **LPIPS**"
   ]
  },
  {
   "cell_type": "code",
   "execution_count": 43,
   "metadata": {
    "execution": {
     "iopub.execute_input": "2024-08-03T06:27:33.703425Z",
     "iopub.status.busy": "2024-08-03T06:27:33.702818Z",
     "iopub.status.idle": "2024-08-03T06:27:33.708901Z",
     "shell.execute_reply": "2024-08-03T06:27:33.707890Z",
     "shell.execute_reply.started": "2024-08-03T06:27:33.703394Z"
    },
    "id": "sCWmFY2h5l8S"
   },
   "outputs": [],
   "source": [
    "from __future__ import absolute_import\n",
    "from collections import namedtuple\n",
    "import torch\n",
    "import torch.nn as nn\n",
    "import torch.nn.init as init\n",
    "from torch.autograd import Variable\n",
    "import numpy as np\n",
    "import torch.nn\n",
    "import torchvision\n",
    "\n",
    "device = torch.device('cuda' if torch.cuda.is_available() else 'cpu')"
   ]
  },
  {
   "cell_type": "code",
   "execution_count": 44,
   "metadata": {
    "execution": {
     "iopub.execute_input": "2024-08-03T06:27:36.581854Z",
     "iopub.status.busy": "2024-08-03T06:27:36.581039Z",
     "iopub.status.idle": "2024-08-03T06:27:36.586080Z",
     "shell.execute_reply": "2024-08-03T06:27:36.585171Z",
     "shell.execute_reply.started": "2024-08-03T06:27:36.581821Z"
    },
    "id": "w6Oezd2a_yPp"
   },
   "outputs": [],
   "source": [
    "def spatial_average(in_tens, keepdim = True):\n",
    "    return in_tens.mean([2, 3], keepdim = keepdim)"
   ]
  },
  {
   "cell_type": "code",
   "execution_count": 45,
   "metadata": {
    "execution": {
     "iopub.execute_input": "2024-08-03T06:27:38.277708Z",
     "iopub.status.busy": "2024-08-03T06:27:38.277072Z",
     "iopub.status.idle": "2024-08-03T06:27:38.289012Z",
     "shell.execute_reply": "2024-08-03T06:27:38.288035Z",
     "shell.execute_reply.started": "2024-08-03T06:27:38.277677Z"
    },
    "id": "pjW9o8TrBTZB"
   },
   "outputs": [],
   "source": [
    "class vgg16(torch.nn.Module):\n",
    "    def __init__(self, requires_grad = False, pretrained = True):\n",
    "        super(vgg16, self).__init__()\n",
    "        vgg_pretrained_features = torchvision.models.vgg16(pretrained = pretrained).features\n",
    "        self.slice1 = nn.Sequential()\n",
    "        self.slice2 = nn.Sequential()\n",
    "        self.slice3 = nn.Sequential()\n",
    "        self.slice4 = nn.Sequential()\n",
    "        self.slice5 = nn.Sequential()\n",
    "        self.N_slices = 5\n",
    "        for x in range(4):\n",
    "            self.slice1.add_module(str(x), vgg_pretrained_features[x])\n",
    "        for x in range(4, 9):\n",
    "            self.slice2.add_module(str(x), vgg_pretrained_features[x])\n",
    "        for x in range(9, 16):\n",
    "            self.slice3.add_module(str(x), vgg_pretrained_features[x])\n",
    "        for x in range(16, 23):\n",
    "            self.slice4.add_module(str(x), vgg_pretrained_features[x])\n",
    "        for x in range(23, 30):\n",
    "            self.slice5.add_module(str(x), vgg_pretrained_features[x])\n",
    "\n",
    "        if not requires_grad:\n",
    "            for param in self.parameters():\n",
    "                param.requires_grad = False\n",
    "\n",
    "    def forward(self, X):\n",
    "        h = self.slice1(X)\n",
    "        h_relu1_2 = h\n",
    "        h = self.slice2(h)\n",
    "        h_relu2_2 = h\n",
    "        h = self.slice3(h)\n",
    "        h_relu3_3 = h\n",
    "        h = self.slice4(h)\n",
    "        h_relu4_3 = h\n",
    "        h = self.slice5(h)\n",
    "        h_relu5_3 = h\n",
    "        vgg_outputs = namedtuple(\"VggOutputs\", ['relu1_2', 'relu2_2', 'relu3_3', 'relu4_3', 'relu5_3'])\n",
    "        out = vgg_outputs(h_relu1_2, h_relu2_2, h_relu3_3, h_relu4_3, h_relu5_3)\n",
    "        return out\n",
    "\n"
   ]
  },
  {
   "cell_type": "code",
   "execution_count": 46,
   "metadata": {
    "execution": {
     "iopub.execute_input": "2024-08-03T06:27:41.014489Z",
     "iopub.status.busy": "2024-08-03T06:27:41.013879Z",
     "iopub.status.idle": "2024-08-03T06:27:41.028629Z",
     "shell.execute_reply": "2024-08-03T06:27:41.027702Z",
     "shell.execute_reply.started": "2024-08-03T06:27:41.014458Z"
    },
    "id": "wZVV8ufThGdw"
   },
   "outputs": [],
   "source": [
    "class LPIPS(nn.Module):\n",
    "    def __init__(self, net = 'vgg', version = '0.1', use_dropout = True):\n",
    "        super(LPIPS, self).__init__()\n",
    "        self.version = version\n",
    "        self.scaling_layer = ScalingLayer()\n",
    "\n",
    "        self.chns = [64, 128, 256, 512, 512]\n",
    "        self.L =  len(self.chns)\n",
    "        self.net = vgg16(pretrained = True, requires_grad = False)\n",
    "\n",
    "        self.lin0 = NetLinLayer(self.chns[0], use_dropout = use_dropout)\n",
    "        self.lin1 = NetLinLayer(self.chns[1], use_dropout = use_dropout)\n",
    "        self.lin2 = NetLinLayer(self.chns[2], use_dropout = use_dropout)\n",
    "        self.lin3 = NetLinLayer(self.chns[3], use_dropout = use_dropout)\n",
    "        self.lin4 = NetLinLayer(self.chns[4], use_dropout = use_dropout)\n",
    "        self.lins = [self.lin0, self.lin1, self.lin2, self.lin3, self.lin4]\n",
    "        self.lins = nn.ModuleList(self.lins)\n",
    "\n",
    "        import inspect\n",
    "        import os\n",
    "\n",
    "#         model_path = os.path.abspath(\n",
    "#             os.path.join(inspect.getfile(self.__init__), '..', 'weights/v%s/%s.pth' % (version, net)))\n",
    "        model_path = '/root/.cache/torch/hub/checkpoints/vgg16-397923af.pth'\n",
    "        print('Loading model from: %s' % model_path)\n",
    "        self.load_state_dict(torch.load(model_path, map_location=device), strict=False)\n",
    "\n",
    "        self.eval()\n",
    "        for param in self.parameters():\n",
    "            param.requires_grad = False\n",
    "\n",
    "\n",
    "    def forward(self, in0, in1, normalize = False):\n",
    "        if normalize:\n",
    "            in0 = 2 * in0 - 1\n",
    "            in1 = 2 * in1 - 1\n",
    "\n",
    "        in0_input, in1_input = self.scaling_layer(in0), self.scaling_layer(in1)\n",
    "\n",
    "        outs0, outs1 = self.net.forward(in0_input), self.net.forward(in1_input)\n",
    "        feats0, feats1, diffs = {}, {}, {}\n",
    "\n",
    "        for kk in range(self.L):\n",
    "            feats0[kk], feats1[kk] = nn.functional.normalize(outs0[kk], dim = 1), nn.functional.normalize(outs1[kk])\n",
    "            diffs[kk] = (feats0[kk] - feats1[kk]) ** 2\n",
    "\n",
    "        res = [spatial_average(self.lins[kk](diffs[kk]), keepdim = True) for kk in range(self.L)]\n",
    "        val = 0\n",
    "\n",
    "        for l in range(self.L):\n",
    "            val += res[l]\n",
    "        return val\n",
    "\n",
    "\n"
   ]
  },
  {
   "cell_type": "code",
   "execution_count": 47,
   "metadata": {
    "execution": {
     "iopub.execute_input": "2024-08-03T06:27:44.125412Z",
     "iopub.status.busy": "2024-08-03T06:27:44.124777Z",
     "iopub.status.idle": "2024-08-03T06:27:44.131710Z",
     "shell.execute_reply": "2024-08-03T06:27:44.130712Z",
     "shell.execute_reply.started": "2024-08-03T06:27:44.125382Z"
    },
    "id": "5xhek74aptEb"
   },
   "outputs": [],
   "source": [
    "class ScalingLayer(nn.Module):\n",
    "    def __init__(self):\n",
    "        super(ScalingLayer, self).__init__()\n",
    "        self.register_buffer('shift', torch.Tensor([-.030, -.088, -.188])[None, :, None, None])\n",
    "        self.register_buffer('scale', torch.Tensor([.458, .448, .450])[None, :, None, None])\n",
    "\n",
    "    def forward(self, inp):\n",
    "        return (inp - self.shift) / self.scale\n"
   ]
  },
  {
   "cell_type": "code",
   "execution_count": 48,
   "metadata": {
    "execution": {
     "iopub.execute_input": "2024-08-03T06:27:45.675854Z",
     "iopub.status.busy": "2024-08-03T06:27:45.675185Z",
     "iopub.status.idle": "2024-08-03T06:27:45.682222Z",
     "shell.execute_reply": "2024-08-03T06:27:45.681330Z",
     "shell.execute_reply.started": "2024-08-03T06:27:45.675821Z"
    },
    "id": "4wNSwaoGpojP"
   },
   "outputs": [],
   "source": [
    "class NetLinLayer(nn.Module):\n",
    "    def __init__(self, chn_in, chn_out = 1, use_dropout = False):\n",
    "        super(NetLinLayer, self).__init__()\n",
    "\n",
    "        layers = [nn.Dropout(), ] if (use_dropout) else []\n",
    "        layers += [nn.Conv2d(chn_in, chn_out, 1, stride = 1, padding = 0, bias = False), ]\n",
    "        self.model = nn.Sequential(*layers)\n",
    "\n",
    "    def forward(self, x):\n",
    "        out = self.model(x)\n",
    "        return out"
   ]
  },
  {
   "cell_type": "markdown",
   "metadata": {
    "id": "HF8KYpzPuOID"
   },
   "source": [
    "### **Discriminator**"
   ]
  },
  {
   "cell_type": "code",
   "execution_count": 49,
   "metadata": {
    "colab": {
     "base_uri": "https://localhost:8080/",
     "height": 128
    },
    "execution": {
     "iopub.execute_input": "2024-08-03T06:27:47.742464Z",
     "iopub.status.busy": "2024-08-03T06:27:47.741557Z",
     "iopub.status.idle": "2024-08-03T06:27:47.751677Z",
     "shell.execute_reply": "2024-08-03T06:27:47.750685Z",
     "shell.execute_reply.started": "2024-08-03T06:27:47.742424Z"
    },
    "id": "n4yjoc71uNn5",
    "outputId": "2637f8dd-f6f5-4047-e9e2-20e3297e69b4"
   },
   "outputs": [],
   "source": [
    "class Discriminator(nn.Module):\n",
    "    def __init__(self, im_channels = 3, conv_channels = [64, 128, 256], kernels = [4, 4, 4, 4],\n",
    "                 strides = [2, 2, 2, 1], padding = [1, 1, 1, 1]):\n",
    "        super().__init__()\n",
    "        self.im_channels = im_channels\n",
    "        activation = nn.LeakyReLU(0.2)\n",
    "        layers_dim = [self.im_channels] + conv_channels + [1]\n",
    "        self.layers = nn.ModuleList([\n",
    "            nn.Sequential(\n",
    "                nn.Conv2d(layers_dim[i], layers_dim[i + 1], kernel_size = kernels[i], stride = strides[i], padding = padding[i], bias = False if (i != 0) else True),\n",
    "                nn.BatchNorm2d(layers_dim[i + 1]) if i!= len(layers_dim) - 2 and i != 0 else nn.Identity(), activation if i != len(layers_dim) - 2 else nn.Identity())\n",
    "            for i in range(len(layers_dim) - 1)\n",
    "        ])\n",
    "\n",
    "    def forward(self, x):\n",
    "        out = x\n",
    "        for layer in self.layers:\n",
    "            out = layer(out)\n",
    "            return out"
   ]
  },
  {
   "cell_type": "code",
   "execution_count": 50,
   "metadata": {
    "execution": {
     "iopub.execute_input": "2024-08-03T06:27:51.801096Z",
     "iopub.status.busy": "2024-08-03T06:27:51.800712Z",
     "iopub.status.idle": "2024-08-03T06:27:51.835310Z",
     "shell.execute_reply": "2024-08-03T06:27:51.834355Z",
     "shell.execute_reply.started": "2024-08-03T06:27:51.801065Z"
    },
    "id": "cN9KqMTGvvdz"
   },
   "outputs": [
    {
     "name": "stdout",
     "output_type": "stream",
     "text": [
      "torch.Size([2, 64, 128, 128])\n"
     ]
    }
   ],
   "source": [
    "if __name__ == '__main__':\n",
    "    x = torch.randn((2,3, 256, 256))\n",
    "    prob = Discriminator(im_channels=3)(x)\n",
    "    print(prob.shape)"
   ]
  },
  {
   "cell_type": "markdown",
   "metadata": {
    "id": "D2BI6a3t1sTG"
   },
   "source": [
    "### **VQVAE**"
   ]
  },
  {
   "cell_type": "code",
   "execution_count": 51,
   "metadata": {
    "execution": {
     "iopub.execute_input": "2024-08-03T06:27:53.736547Z",
     "iopub.status.busy": "2024-08-03T06:27:53.735684Z",
     "iopub.status.idle": "2024-08-03T06:27:53.766670Z",
     "shell.execute_reply": "2024-08-03T06:27:53.765690Z",
     "shell.execute_reply.started": "2024-08-03T06:27:53.736516Z"
    },
    "id": "4EMTlnH_wKP_"
   },
   "outputs": [],
   "source": [
    "class VQVAE(nn.Module):\n",
    "    def __init__(self, im_channels, model_config):\n",
    "        super().__init__()\n",
    "        self.down_channels = model_config['down_channels']\n",
    "        self.mid_channels = model_config['mid_channels']\n",
    "        self.down_sample = model_config['down_sample']\n",
    "        self.num_down_layers = model_config['num_down_layers']\n",
    "        self.num_mid_layers = model_config['num_mid_layers']\n",
    "        self.num_up_layers = model_config['num_up_layers']\n",
    "        self.norm_channels = model_config['norm_channels']\n",
    "\n",
    "        self.attns = model_config['attn_down']\n",
    "        self.num_heads = model_config['num_heads']\n",
    "\n",
    "        self.z_channels = model_config['z_channels']\n",
    "        self.codebook_size = model_config['codebook_size']\n",
    "        \n",
    "        assert self.mid_channels[0] == self.down_channels[-1]\n",
    "        assert self.mid_channels[-1] == self.down_channels[-1]\n",
    "        assert len(self.down_sample) == len(self.down_channels) - 1\n",
    "        assert len(self.attns) == len(self.down_channels) - 1\n",
    "        \n",
    "        \n",
    "        self.up_sample = list(reversed(self.down_sample))\n",
    "\n",
    "        self.encoder_conv_in = nn.Conv2d(im_channels, self.down_channels[0], kernel_size = 3, padding = (1, 1))\n",
    "\n",
    "        self.encoder_downs = nn.ModuleList([])\n",
    "        for i in range(len(self.down_channels) - 1):\n",
    "            self.encoder_downs.append(DownBlock(self.down_channels[i], self.down_channels[i + 1],\n",
    "                                                t_emb_dim = None, down_sample = self.down_sample[i],\n",
    "                                                num_heads = self.num_heads, num_layers = self.num_down_layers,\n",
    "                                                attn = self.attns[i], norm_channels = self.norm_channels))\n",
    "        self.encoder_mids = nn.ModuleList([])\n",
    "        for i in range(len(self.mid_channels) - 1):\n",
    "            self.encoder_mids.append(MidBlock(self.mid_channels[i], self.mid_channels[i + 1],\n",
    "                                                t_emb_dim = None, num_heads = self.num_heads,\n",
    "                                                num_layers = self.num_mid_layers, norm_channels = self.norm_channels))\n",
    "        self.encoder_norm_out = nn.GroupNorm(self.norm_channels, self.down_channels[-1])\n",
    "        self.encoder_conv_out = nn.Conv2d(self.down_channels[-1], self.z_channels, kernel_size = 3, padding = 1)\n",
    "\n",
    "        self.pre_quant_conv = nn.Conv2d(self.z_channels, self.z_channels, kernel_size = 1)\n",
    "\n",
    "        self.embedding = nn.Embedding(self.codebook_size, self.z_channels)\n",
    "\n",
    "        self.post_quant_conv = nn.Conv2d(self.z_channels, self.z_channels, kernel_size = 1)\n",
    "        self.decoder_conv_in = nn.Conv2d(self.z_channels, self.mid_channels[-1], kernel_size = 3, padding = (1, 1))\n",
    "\n",
    "        self.decoder_mids = nn.ModuleList([])\n",
    "        for i in reversed(range(1, len(self.mid_channels))):\n",
    "            self.decoder_mids.append(MidBlock(self.mid_channels[i], self.mid_channels[i - 1], t_emb_dim = None,\n",
    "                                              num_heads = self.num_heads, num_layers = self.num_mid_layers,\n",
    "                                              norm_channels = self.norm_channels))\n",
    "        self.decoder_ups = nn.ModuleList([])\n",
    "        for i in reversed(range(1, len(self.down_channels))):\n",
    "            self.decoder_ups.append(UpBlock(self.down_channels[i], self.down_channels[i - 1], t_emb_dim = None,\n",
    "                                            up_sample = self.down_sample[i - 1], num_heads = self.num_heads,\n",
    "                                            num_layers = self.num_up_layers, attn = self.attns[i - 1],\n",
    "                                            norm_channels = self.norm_channels))\n",
    "\n",
    "        self.decoder_norm_out = nn.GroupNorm(self.norm_channels, self.down_channels[0])\n",
    "        self.decoder_conv_out = nn.Conv2d(self.down_channels[0], im_channels, kernel_size = 3, padding = (1, 1))\n",
    "\n",
    "    def quantize(self, x):\n",
    "        B, C, H, W = x.shape\n",
    "        x = x.permute(0, 2, 3, 1)\n",
    "        x = x.reshape(x.size(0), -1, x.size(-1))\n",
    "\n",
    "        dist = torch.cdist(x, self.embedding.weight[None, :].repeat((x.size(0), 1, 1)))\n",
    "        min_encoding_indices = torch.argmin(dist, dim = -1)\n",
    "\n",
    "        quant_out = torch.index_select(self.embedding.weight,0, min_encoding_indices.view(-1))\n",
    "\n",
    "        x = x.reshape((-1, x.size(-1)))\n",
    "        commitment_loss = torch.mean((quant_out.detach() - x) ** 2)\n",
    "        codebook_loss = torch.mean((quant_out - x.detach()) ** 2)\n",
    "        quantize_losses = {\n",
    "            'codebook_loss': codebook_loss,\n",
    "            'commitment_loss': commitment_loss,\n",
    "        }\n",
    "        quant_out = x + (quant_out - x).detach()\n",
    "\n",
    "        quant_out = quant_out.reshape((B, H, W, C)).permute(0, 3, 1, 2)\n",
    "        min_encoding_indices = min_encoding_indices.reshape((-1, quant_out.size(-2), quant_out.size(-1)))\n",
    "\n",
    "        return quant_out, quantize_losses\n",
    "    def encode(self, x):\n",
    "        out = self.encoder_conv_in(x)\n",
    "        for idx, down in enumerate(self.encoder_downs):\n",
    "            out = down(out)\n",
    "        for mid in self.encoder_mids:\n",
    "            out = mid(out)\n",
    "        out = self.encoder_norm_out(out)\n",
    "        out = nn.SiLU()(out)\n",
    "        out = self.encoder_conv_out(out)\n",
    "        out = self.pre_quant_conv(out)\n",
    "        out, quant_losses = self.quantize(out)\n",
    "        return out, quant_losses\n",
    "\n",
    "    def decode(self, z):\n",
    "        out = z\n",
    "        out = self.post_quant_conv(out)\n",
    "        out = self.decoder_conv_in(out)\n",
    "        for mid in self.decoder_mids:\n",
    "            out = mid(out)\n",
    "        for idx, up in enumerate(self.decoder_ups):\n",
    "            out = up(out)\n",
    "        out = self.decoder_norm_out(out)\n",
    "        out = nn.SiLU()(out)\n",
    "        out = self.decoder_conv_out(out)\n",
    "        return out\n",
    "\n",
    "    def forward(self, x):\n",
    "        z, quant_losses = self.encode(x)\n",
    "        out = self.decode(z)\n",
    "        return out, z, quant_losses"
   ]
  },
  {
   "cell_type": "markdown",
   "metadata": {
    "id": "ZXDCyr49RvXs"
   },
   "source": [
    "### **Linear Noise Scheduler**"
   ]
  },
  {
   "cell_type": "code",
   "execution_count": 52,
   "metadata": {
    "execution": {
     "iopub.execute_input": "2024-08-03T06:27:57.412460Z",
     "iopub.status.busy": "2024-08-03T06:27:57.411715Z",
     "iopub.status.idle": "2024-08-03T06:27:57.424053Z",
     "shell.execute_reply": "2024-08-03T06:27:57.423146Z",
     "shell.execute_reply.started": "2024-08-03T06:27:57.412417Z"
    },
    "id": "P5pFqvoiRy1h"
   },
   "outputs": [],
   "source": [
    "class LinearNoiseScheduler:\n",
    "    def __init__(self, num_timesteps, beta_start, beta_end):\n",
    "        self.num_timesteps = num_timesteps\n",
    "        self.beta_start = beta_start\n",
    "        self.beta_end = beta_end\n",
    "\n",
    "        self.betas = torch.linspace(beta_start, beta_end, num_timesteps)\n",
    "        self.alphas = 1. - self.betas\n",
    "        self.alpha_cum_prod = torch.cumprod(self.alphas, dim = 0).to(device)\n",
    "        self.sqrt_alpha_cum_prod = torch.sqrt(self.alpha_cum_prod).to(device)\n",
    "        self.one_minus_alpha_cum_prod = torch.sqrt(1. - self.alpha_cum_prod).to(device)\n",
    "        self.sqrt_one_minus_alpha_cum_prod = torch.sqrt(1 - self.alpha_cum_prod).to(device)\n",
    "\n",
    "    def add_noise(self, original, noise, t):\n",
    "        original_shape = original.shape\n",
    "        batch_size = original_shape[0]\n",
    "\n",
    "        sqrt_alpha_cum_prod = self.sqrt_alpha_cum_prod[t].reshape(batch_size)\n",
    "        sqrt_one_minus_alpha_cum_prod = self.sqrt_one_minus_alpha_cum_prod[t].reshape(batch_size)\n",
    "\n",
    "        for _ in range(len(original_shape) - 1):\n",
    "            sqrt_alpha_cum_prod = sqrt_alpha_cum_prod.unsqueeze(-1)\n",
    "            sqrt_one_minus_alpha_cum_prod = sqrt_one_minus_alpha_cum_prod.unsqueeze(-1)\n",
    "\n",
    "        return sqrt_alpha_cum_prod * original + sqrt_one_minus_alpha_cum_prod * noise\n",
    "\n",
    "    def sample_prev_timestep(self, xt, noise_pred, t):\n",
    "        x0 = (xt - (self.sqrt_one_minus_alpha_cum_prod[t] * noise_pred)) / self.sqrt_alpha_cum_prod[t]\n",
    "        x0 = torch.clamp(x0, -1., 1.)\n",
    "        mean = xt - ((self.betas[t] * noise_pred) / (self.sqrt_one_minus_alpha_cum_prod[t]))\n",
    "        mean = mean / torch.sqrt(self.alphas[t])\n",
    "\n",
    "        if t == 0:\n",
    "            return mean, x0\n",
    "        else:\n",
    "            variance = (1 - self.alpha_cum_prod[t - 1]) / (1. - self.alpha_cum_prod[t])\n",
    "            variance = variance * self.betas[t]\n",
    "            sigma = variance ** 0.5\n",
    "            z = torch.randn(xt.shape).to(xt.device)\n",
    "            return mean + sigma * z, x0"
   ]
  },
  {
   "cell_type": "markdown",
   "metadata": {
    "id": "ZgZLwY1_Zu5c"
   },
   "source": [
    "### **Train VQVAE**"
   ]
  },
  {
   "cell_type": "code",
   "execution_count": 53,
   "metadata": {
    "execution": {
     "iopub.execute_input": "2024-08-03T06:28:00.388286Z",
     "iopub.status.busy": "2024-08-03T06:28:00.387339Z",
     "iopub.status.idle": "2024-08-03T06:28:00.395926Z",
     "shell.execute_reply": "2024-08-03T06:28:00.394673Z",
     "shell.execute_reply.started": "2024-08-03T06:28:00.388241Z"
    },
    "id": "f5iLlNlHRz7p"
   },
   "outputs": [],
   "source": [
    "import yaml\n",
    "import argparse\n",
    "import random\n",
    "import torchvision\n",
    "import os\n",
    "import numpy as np\n",
    "from tqdm import tqdm\n",
    "from torch.optim import Adam\n",
    "from torchvision.utils import make_grid\n",
    "\n",
    "device = torch.device('cuda' if torch.cuda.is_available() else 'cpu')\n"
   ]
  },
  {
   "cell_type": "code",
   "execution_count": 54,
   "metadata": {
    "execution": {
     "iopub.execute_input": "2024-08-03T06:28:04.842206Z",
     "iopub.status.busy": "2024-08-03T06:28:04.841852Z",
     "iopub.status.idle": "2024-08-03T06:28:04.847142Z",
     "shell.execute_reply": "2024-08-03T06:28:04.846240Z",
     "shell.execute_reply.started": "2024-08-03T06:28:04.842171Z"
    }
   },
   "outputs": [],
   "source": [
    "from torch.utils.data.dataloader import DataLoader\n",
    "import torchvision.datasets as dset\n",
    "import torchvision.transforms as transforms\n",
    "from torchvision.datasets import ImageFolder\n",
    "import torchvision.transforms.functional as F"
   ]
  },
  {
   "cell_type": "markdown",
   "metadata": {},
   "source": []
  },
  {
   "cell_type": "code",
   "execution_count": null,
   "metadata": {},
   "outputs": [],
   "source": [
    "os.mkdir('weights')\n",
    "directory = 'v0.1'\n",
    "path = os.path.join('/kaggle/working/weights', directory)\n",
    "os.mkdir(path)"
   ]
  },
  {
   "cell_type": "code",
   "execution_count": 55,
   "metadata": {
    "execution": {
     "iopub.execute_input": "2024-08-03T06:28:08.970899Z",
     "iopub.status.busy": "2024-08-03T06:28:08.970066Z",
     "iopub.status.idle": "2024-08-03T06:29:33.168219Z",
     "shell.execute_reply": "2024-08-03T06:29:33.167262Z",
     "shell.execute_reply.started": "2024-08-03T06:28:08.970857Z"
    }
   },
   "outputs": [],
   "source": [
    "image_list = []\n",
    "for filename in glob.glob('/kaggle/input/celebritydataset/celeba_hq_256/*.jpg'): #assuming jpg \n",
    "    im = Image.open(filename) \n",
    "    image_list.append(im) "
   ]
  },
  {
   "cell_type": "code",
   "execution_count": 56,
   "metadata": {
    "execution": {
     "iopub.execute_input": "2024-08-03T06:29:33.169937Z",
     "iopub.status.busy": "2024-08-03T06:29:33.169596Z",
     "iopub.status.idle": "2024-08-03T06:29:33.174631Z",
     "shell.execute_reply": "2024-08-03T06:29:33.173800Z",
     "shell.execute_reply.started": "2024-08-03T06:29:33.169912Z"
    }
   },
   "outputs": [
    {
     "name": "stdout",
     "output_type": "stream",
     "text": [
      "(256, 256)\n"
     ]
    }
   ],
   "source": [
    "print(image_list[0].size)"
   ]
  },
  {
   "cell_type": "code",
   "execution_count": 57,
   "metadata": {
    "execution": {
     "iopub.execute_input": "2024-08-03T06:29:53.377904Z",
     "iopub.status.busy": "2024-08-03T06:29:53.377303Z",
     "iopub.status.idle": "2024-08-03T06:29:53.385054Z",
     "shell.execute_reply": "2024-08-03T06:29:53.384181Z",
     "shell.execute_reply.started": "2024-08-03T06:29:53.377872Z"
    }
   },
   "outputs": [],
   "source": [
    "class MyDataset(torch.utils.data.Dataset):\n",
    "    def __init__(self, img_list, augmentations):\n",
    "        super(MyDataset, self).__init__()\n",
    "        self.img_list = img_list\n",
    "        self.augmentations = augmentations\n",
    "\n",
    "    def __len__(self):\n",
    "        return len(self.img_list)\n",
    "\n",
    "    def __getitem__(self, idx):\n",
    "        img = self.img_list[idx]\n",
    "        return self.augmentations(img)\n",
    "  \n"
   ]
  },
  {
   "cell_type": "code",
   "execution_count": 58,
   "metadata": {
    "execution": {
     "iopub.execute_input": "2024-08-03T06:29:57.997078Z",
     "iopub.status.busy": "2024-08-03T06:29:57.996726Z",
     "iopub.status.idle": "2024-08-03T06:29:58.003434Z",
     "shell.execute_reply": "2024-08-03T06:29:58.002394Z",
     "shell.execute_reply.started": "2024-08-03T06:29:57.997051Z"
    }
   },
   "outputs": [],
   "source": [
    "# Creating a custom dataset class \n",
    "class ImageDataset(torch.utils.data.Dataset): \n",
    "    def __init__(self, img_list, transform): \n",
    "        self.img_list = img_list\n",
    "        self.transform = transform \n",
    "        self.counter = 0\n",
    "  \n",
    "    # Defining the length of the dataset \n",
    "    def __len__(self): \n",
    "        return len(self.img_list) \n",
    "  \n",
    "    # Defining the method to get an item from the dataset \n",
    "    def __getitem__(self, index): \n",
    "        image = self.img_list[index]\n",
    "        image = self.transform(image) \n",
    "          \n",
    "        return image"
   ]
  },
  {
   "cell_type": "code",
   "execution_count": 59,
   "metadata": {
    "execution": {
     "iopub.execute_input": "2024-08-03T06:30:00.561898Z",
     "iopub.status.busy": "2024-08-03T06:30:00.561020Z",
     "iopub.status.idle": "2024-08-03T06:30:00.569566Z",
     "shell.execute_reply": "2024-08-03T06:30:00.568540Z",
     "shell.execute_reply.started": "2024-08-03T06:30:00.561854Z"
    }
   },
   "outputs": [],
   "source": [
    "# Creating a custom dataset class \n",
    "class ImageDataset(torch.utils.data.Dataset): \n",
    "    def __init__(self, img_list, transform): \n",
    "        self.img_list = img_list\n",
    "        self.transform = transform \n",
    "        self.counter = 0\n",
    "        self.condition_types = ['text']\n",
    "  \n",
    "    # Defining the length of the dataset \n",
    "    def __len__(self): \n",
    "        return len(self.img_list) \n",
    "  \n",
    "    # Defining the method to get an item from the dataset \n",
    "    def __getitem__(self, index): \n",
    "        image = self.img_list[index]\n",
    "        image = self.transform(image) \n",
    "          \n",
    "        return image"
   ]
  },
  {
   "cell_type": "code",
   "execution_count": 60,
   "metadata": {
    "execution": {
     "iopub.execute_input": "2024-08-03T06:30:03.492431Z",
     "iopub.status.busy": "2024-08-03T06:30:03.491765Z",
     "iopub.status.idle": "2024-08-03T06:30:03.511121Z",
     "shell.execute_reply": "2024-08-03T06:30:03.510175Z",
     "shell.execute_reply.started": "2024-08-03T06:30:03.492402Z"
    }
   },
   "outputs": [],
   "source": [
    "class CelebDataset(Dataset):\n",
    "    r\"\"\"\n",
    "    Celeb dataset will by default centre crop and resize the images.\n",
    "    This can be replaced by any other dataset. As long as all the images\n",
    "    are under one directory.\n",
    "    \"\"\"\n",
    "    \n",
    "    def __init__(self, split, im_path, im_size=256, im_channels=3, im_ext='jpg',\n",
    "                 use_latents=False, latent_path=None, condition_config=None):\n",
    "        self.split = split\n",
    "        self.im_size = im_size\n",
    "        self.im_channels = im_channels\n",
    "        self.im_ext = im_ext\n",
    "        self.im_path = im_path\n",
    "        self.latent_maps = None\n",
    "        self.use_latents = False\n",
    "        \n",
    "        self.condition_types = [] if condition_config is None else condition_config['condition_types']\n",
    "        \n",
    "        self.idx_to_cls_map = {}\n",
    "        self.cls_to_idx_map ={}\n",
    "                    \n",
    "        self.images, self.texts, self.masks = self.load_images(im_path)\n",
    "        \n",
    "        # Whether to load images or to load latents\n",
    "        if use_latents and latent_path is not None:\n",
    "            latent_maps = load_latents(latent_path)\n",
    "            if len(latent_maps) == len(self.images):\n",
    "                self.use_latents = True\n",
    "                self.latent_maps = latent_maps\n",
    "                print('Found {} latents'.format(len(self.latent_maps)))\n",
    "            else:\n",
    "                print('Latents not found')\n",
    "    \n",
    "    def load_images(self, im_path):\n",
    "        r\"\"\"\n",
    "        Gets all images from the path specified\n",
    "        and stacks them all up\n",
    "        \"\"\"\n",
    "        assert os.path.exists(im_path), \"images path {} does not exist\".format(im_path)\n",
    "        ims = []\n",
    "        fnames = glob.glob(os.path.join(im_path, 'CelebA-HQ-img/*.{}'.format('png')))\n",
    "        fnames += glob.glob(os.path.join(im_path, 'CelebA-HQ-img/*.{}'.format('jpg')))\n",
    "        fnames += glob.glob(os.path.join(im_path, 'CelebA-HQ-img/*.{}'.format('jpeg')))\n",
    "        texts = []\n",
    "        masks = []\n",
    "        \n",
    "        for fname in tqdm(fnames):\n",
    "            ims.append(fname)\n",
    "            \n",
    "            if 'text' in self.condition_types:\n",
    "                im_name = os.path.split(fname)[1].split('.')[0]\n",
    "                captions_im = []\n",
    "                with open(os.path.join(im_path, 'celeba-caption/{}.txt'.format(im_name))) as f:\n",
    "                    for line in f.readlines():\n",
    "                        captions_im.append(line.strip())\n",
    "                texts.append(captions_im)\n",
    "                \n",
    "        if 'text' in self.condition_types:\n",
    "            assert len(texts) == len(ims), \"Condition Type Text but could not find captions for all images\"\n",
    "#         print('Found {} images'.format(len(ims)))\n",
    "#         print('Found {} masks'.format(len(masks)))\n",
    "#         print('Found {} captions'.format(len(texts)))\n",
    "        return ims, texts, masks\n",
    "    \n",
    "#     def get_mask(self, index):\n",
    "#         r\"\"\"\n",
    "#         Method to get the mask of WxH\n",
    "#         for given index and convert it into\n",
    "#         Classes x W x H mask image\n",
    "#         :param index:\n",
    "#         :return:\n",
    "#         \"\"\"\n",
    "#         mask_im = Image.open(self.masks[index])\n",
    "#         mask_im = np.array(mask_im)\n",
    "#         im_base = np.zeros((self.mask_h, self.mask_w, self.mask_channels))\n",
    "#         for orig_idx in range(len(self.idx_to_cls_map)):\n",
    "#             im_base[mask_im == (orig_idx+1), orig_idx] = 1\n",
    "#         mask = torch.from_numpy(im_base).permute(2, 0, 1).float()\n",
    "#         return mask\n",
    "    \n",
    "    def __len__(self):\n",
    "        return len(self.images)\n",
    "    \n",
    "    def __getitem__(self, index):\n",
    "        ######## Set Conditioning Info ########\n",
    "        cond_inputs = {}\n",
    "        if 'text' in self.condition_types:\n",
    "            cond_inputs['text'] = random.sample(self.texts[index], k=1)[0]\n",
    "#         if 'image' in self.condition_types:\n",
    "#             mask = self.get_mask(index)\n",
    "#             cond_inputs['image'] = mask\n",
    "        #######################################\n",
    "        \n",
    "        if self.use_latents:\n",
    "            latent = self.latent_maps[self.images[index]]\n",
    "            if len(self.condition_types) == 0:\n",
    "                return latent\n",
    "            else:\n",
    "                return latent, cond_inputs\n",
    "        else:\n",
    "            im = Image.open(self.images[index])\n",
    "            im_tensor = torchvision.transforms.Compose([\n",
    "                torchvision.transforms.Resize(self.im_size),\n",
    "                torchvision.transforms.CenterCrop(self.im_size),\n",
    "                torchvision.transforms.ToTensor(),\n",
    "            ])(im)\n",
    "            im.close()\n",
    "        \n",
    "            # Convert input to -1 to 1 range.\n",
    "            im_tensor = (2 * im_tensor) - 1\n",
    "            if len(self.condition_types) == 0:\n",
    "                return im_tensor\n",
    "            else:\n",
    "                return im_tensor, cond_inputs"
   ]
  },
  {
   "cell_type": "code",
   "execution_count": 61,
   "metadata": {
    "execution": {
     "iopub.execute_input": "2024-08-03T06:30:07.998587Z",
     "iopub.status.busy": "2024-08-03T06:30:07.998231Z",
     "iopub.status.idle": "2024-08-03T06:30:08.044612Z",
     "shell.execute_reply": "2024-08-03T06:30:08.043712Z",
     "shell.execute_reply.started": "2024-08-03T06:30:07.998557Z"
    }
   },
   "outputs": [
    {
     "name": "stdout",
     "output_type": "stream",
     "text": [
      "30000\n",
      "30000\n"
     ]
    }
   ],
   "source": [
    "transform = transforms.Compose([F.to_tensor])\n",
    "dataset = ImageDataset(image_list, transform)\n",
    "dataset_length = len(dataset)\n",
    "print(dataset_length)\n",
    "dataloader = DataLoader(dataset, batch_size = 1, shuffle = True)\n",
    "print(len(dataloader))\n"
   ]
  },
  {
   "cell_type": "code",
   "execution_count": 34,
   "metadata": {
    "execution": {
     "iopub.execute_input": "2024-08-02T08:11:28.813558Z",
     "iopub.status.busy": "2024-08-02T08:11:28.813212Z",
     "iopub.status.idle": "2024-08-02T08:12:18.776050Z",
     "shell.execute_reply": "2024-08-02T08:12:18.774641Z",
     "shell.execute_reply.started": "2024-08-02T08:11:28.813528Z"
    },
    "id": "9oQS0WZlaSLR"
   },
   "outputs": [
    {
     "name": "stdout",
     "output_type": "stream",
     "text": [
      "Loaded YAML file\n"
     ]
    },
    {
     "name": "stderr",
     "output_type": "stream",
     "text": [
      "/opt/conda/lib/python3.10/site-packages/torchvision/models/_utils.py:208: UserWarning: The parameter 'pretrained' is deprecated since 0.13 and may be removed in the future, please use 'weights' instead.\n",
      "  warnings.warn(\n",
      "/opt/conda/lib/python3.10/site-packages/torchvision/models/_utils.py:223: UserWarning: Arguments other than a weight enum or `None` for 'weights' are deprecated since 0.13 and may be removed in the future. The current behavior is equivalent to passing `weights=VGG16_Weights.IMAGENET1K_V1`. You can also use `weights=VGG16_Weights.DEFAULT` to get the most up-to-date weights.\n",
      "  warnings.warn(msg)\n",
      "Downloading: \"https://download.pytorch.org/models/vgg16-397923af.pth\" to /root/.cache/torch/hub/checkpoints/vgg16-397923af.pth\n",
      "100%|██████████| 528M/528M [00:06<00:00, 83.4MB/s] \n"
     ]
    },
    {
     "name": "stdout",
     "output_type": "stream",
     "text": [
      "Loading model from: /root/.cache/torch/hub/checkpoints/vgg16-397923af.pth\n",
      "Starting training\n"
     ]
    },
    {
     "name": "stderr",
     "output_type": "stream",
     "text": [
      "  1%|          | 297/30000 [00:40<1:07:09,  7.37it/s]\n"
     ]
    },
    {
     "ename": "KeyboardInterrupt",
     "evalue": "",
     "output_type": "error",
     "traceback": [
      "\u001b[0;31m---------------------------------------------------------------------------\u001b[0m",
      "\u001b[0;31mKeyboardInterrupt\u001b[0m                         Traceback (most recent call last)",
      "Cell \u001b[0;32mIn[34], line 184\u001b[0m\n\u001b[1;32m    182\u001b[0m parser\u001b[38;5;241m.\u001b[39madd_argument(\u001b[38;5;124m'\u001b[39m\u001b[38;5;124m--config\u001b[39m\u001b[38;5;124m'\u001b[39m, dest \u001b[38;5;241m=\u001b[39m \u001b[38;5;124m'\u001b[39m\u001b[38;5;124mconfig_path\u001b[39m\u001b[38;5;124m'\u001b[39m, default \u001b[38;5;241m=\u001b[39m \u001b[38;5;124m'\u001b[39m\u001b[38;5;124m/kaggle/input/celebhq-yaml/celebhq.yaml\u001b[39m\u001b[38;5;124m'\u001b[39m, \u001b[38;5;28mtype\u001b[39m \u001b[38;5;241m=\u001b[39m \u001b[38;5;28mstr\u001b[39m)\n\u001b[1;32m    183\u001b[0m args \u001b[38;5;241m=\u001b[39m parser\u001b[38;5;241m.\u001b[39mparse_args(args \u001b[38;5;241m=\u001b[39m [])\n\u001b[0;32m--> 184\u001b[0m \u001b[43mtrain\u001b[49m\u001b[43m(\u001b[49m\u001b[43margs\u001b[49m\u001b[43m)\u001b[49m\n",
      "Cell \u001b[0;32mIn[34], line 103\u001b[0m, in \u001b[0;36mtrain\u001b[0;34m(args)\u001b[0m\n\u001b[1;32m     93\u001b[0m             im \u001b[38;5;241m=\u001b[39m im\u001b[38;5;241m.\u001b[39mto(device)\n\u001b[1;32m     96\u001b[0m \u001b[38;5;66;03m#             print(type(im[0]))\u001b[39;00m\n\u001b[1;32m     97\u001b[0m \u001b[38;5;66;03m#             im = torch.stack(im, dim=0)\u001b[39;00m\n\u001b[1;32m     98\u001b[0m \u001b[38;5;66;03m#             im = np.array(im)\u001b[39;00m\n\u001b[0;32m   (...)\u001b[0m\n\u001b[1;32m    101\u001b[0m \u001b[38;5;66;03m#             transform = transforms.Compose([transforms.ToTensor()])\u001b[39;00m\n\u001b[1;32m    102\u001b[0m \u001b[38;5;66;03m#             x = transform(im)\u001b[39;00m\n\u001b[0;32m--> 103\u001b[0m             model_output \u001b[38;5;241m=\u001b[39m \u001b[43mmodel\u001b[49m\u001b[43m(\u001b[49m\u001b[43mim\u001b[49m\u001b[43m)\u001b[49m\n\u001b[1;32m    104\u001b[0m             output, z, quantize_losses \u001b[38;5;241m=\u001b[39m model_output\n\u001b[1;32m    106\u001b[0m             \u001b[38;5;28;01mif\u001b[39;00m step_count \u001b[38;5;241m%\u001b[39m image_save_steps \u001b[38;5;241m==\u001b[39m \u001b[38;5;241m0\u001b[39m \u001b[38;5;129;01mor\u001b[39;00m step_count \u001b[38;5;241m==\u001b[39m \u001b[38;5;241m1\u001b[39m:\n",
      "File \u001b[0;32m/opt/conda/lib/python3.10/site-packages/torch/nn/modules/module.py:1518\u001b[0m, in \u001b[0;36mModule._wrapped_call_impl\u001b[0;34m(self, *args, **kwargs)\u001b[0m\n\u001b[1;32m   1516\u001b[0m     \u001b[38;5;28;01mreturn\u001b[39;00m \u001b[38;5;28mself\u001b[39m\u001b[38;5;241m.\u001b[39m_compiled_call_impl(\u001b[38;5;241m*\u001b[39margs, \u001b[38;5;241m*\u001b[39m\u001b[38;5;241m*\u001b[39mkwargs)  \u001b[38;5;66;03m# type: ignore[misc]\u001b[39;00m\n\u001b[1;32m   1517\u001b[0m \u001b[38;5;28;01melse\u001b[39;00m:\n\u001b[0;32m-> 1518\u001b[0m     \u001b[38;5;28;01mreturn\u001b[39;00m \u001b[38;5;28;43mself\u001b[39;49m\u001b[38;5;241;43m.\u001b[39;49m\u001b[43m_call_impl\u001b[49m\u001b[43m(\u001b[49m\u001b[38;5;241;43m*\u001b[39;49m\u001b[43margs\u001b[49m\u001b[43m,\u001b[49m\u001b[43m \u001b[49m\u001b[38;5;241;43m*\u001b[39;49m\u001b[38;5;241;43m*\u001b[39;49m\u001b[43mkwargs\u001b[49m\u001b[43m)\u001b[49m\n",
      "File \u001b[0;32m/opt/conda/lib/python3.10/site-packages/torch/nn/modules/module.py:1527\u001b[0m, in \u001b[0;36mModule._call_impl\u001b[0;34m(self, *args, **kwargs)\u001b[0m\n\u001b[1;32m   1522\u001b[0m \u001b[38;5;66;03m# If we don't have any hooks, we want to skip the rest of the logic in\u001b[39;00m\n\u001b[1;32m   1523\u001b[0m \u001b[38;5;66;03m# this function, and just call forward.\u001b[39;00m\n\u001b[1;32m   1524\u001b[0m \u001b[38;5;28;01mif\u001b[39;00m \u001b[38;5;129;01mnot\u001b[39;00m (\u001b[38;5;28mself\u001b[39m\u001b[38;5;241m.\u001b[39m_backward_hooks \u001b[38;5;129;01mor\u001b[39;00m \u001b[38;5;28mself\u001b[39m\u001b[38;5;241m.\u001b[39m_backward_pre_hooks \u001b[38;5;129;01mor\u001b[39;00m \u001b[38;5;28mself\u001b[39m\u001b[38;5;241m.\u001b[39m_forward_hooks \u001b[38;5;129;01mor\u001b[39;00m \u001b[38;5;28mself\u001b[39m\u001b[38;5;241m.\u001b[39m_forward_pre_hooks\n\u001b[1;32m   1525\u001b[0m         \u001b[38;5;129;01mor\u001b[39;00m _global_backward_pre_hooks \u001b[38;5;129;01mor\u001b[39;00m _global_backward_hooks\n\u001b[1;32m   1526\u001b[0m         \u001b[38;5;129;01mor\u001b[39;00m _global_forward_hooks \u001b[38;5;129;01mor\u001b[39;00m _global_forward_pre_hooks):\n\u001b[0;32m-> 1527\u001b[0m     \u001b[38;5;28;01mreturn\u001b[39;00m \u001b[43mforward_call\u001b[49m\u001b[43m(\u001b[49m\u001b[38;5;241;43m*\u001b[39;49m\u001b[43margs\u001b[49m\u001b[43m,\u001b[49m\u001b[43m \u001b[49m\u001b[38;5;241;43m*\u001b[39;49m\u001b[38;5;241;43m*\u001b[39;49m\u001b[43mkwargs\u001b[49m\u001b[43m)\u001b[49m\n\u001b[1;32m   1529\u001b[0m \u001b[38;5;28;01mtry\u001b[39;00m:\n\u001b[1;32m   1530\u001b[0m     result \u001b[38;5;241m=\u001b[39m \u001b[38;5;28;01mNone\u001b[39;00m\n",
      "Cell \u001b[0;32mIn[23], line 114\u001b[0m, in \u001b[0;36mVQVAE.forward\u001b[0;34m(self, x)\u001b[0m\n\u001b[1;32m    113\u001b[0m \u001b[38;5;28;01mdef\u001b[39;00m \u001b[38;5;21mforward\u001b[39m(\u001b[38;5;28mself\u001b[39m, x):\n\u001b[0;32m--> 114\u001b[0m     z, quant_losses \u001b[38;5;241m=\u001b[39m \u001b[38;5;28;43mself\u001b[39;49m\u001b[38;5;241;43m.\u001b[39;49m\u001b[43mencode\u001b[49m\u001b[43m(\u001b[49m\u001b[43mx\u001b[49m\u001b[43m)\u001b[49m\n\u001b[1;32m    115\u001b[0m     out \u001b[38;5;241m=\u001b[39m \u001b[38;5;28mself\u001b[39m\u001b[38;5;241m.\u001b[39mdecode(z)\n\u001b[1;32m    116\u001b[0m     \u001b[38;5;28;01mreturn\u001b[39;00m out, z, quant_losses\n",
      "Cell \u001b[0;32mIn[23], line 92\u001b[0m, in \u001b[0;36mVQVAE.encode\u001b[0;34m(self, x)\u001b[0m\n\u001b[1;32m     90\u001b[0m     out \u001b[38;5;241m=\u001b[39m down(out)\n\u001b[1;32m     91\u001b[0m \u001b[38;5;28;01mfor\u001b[39;00m mid \u001b[38;5;129;01min\u001b[39;00m \u001b[38;5;28mself\u001b[39m\u001b[38;5;241m.\u001b[39mencoder_mids:\n\u001b[0;32m---> 92\u001b[0m     out \u001b[38;5;241m=\u001b[39m \u001b[43mmid\u001b[49m\u001b[43m(\u001b[49m\u001b[43mout\u001b[49m\u001b[43m)\u001b[49m\n\u001b[1;32m     93\u001b[0m out \u001b[38;5;241m=\u001b[39m \u001b[38;5;28mself\u001b[39m\u001b[38;5;241m.\u001b[39mencoder_norm_out(out)\n\u001b[1;32m     94\u001b[0m out \u001b[38;5;241m=\u001b[39m nn\u001b[38;5;241m.\u001b[39mSiLU()(out)\n",
      "File \u001b[0;32m/opt/conda/lib/python3.10/site-packages/torch/nn/modules/module.py:1518\u001b[0m, in \u001b[0;36mModule._wrapped_call_impl\u001b[0;34m(self, *args, **kwargs)\u001b[0m\n\u001b[1;32m   1516\u001b[0m     \u001b[38;5;28;01mreturn\u001b[39;00m \u001b[38;5;28mself\u001b[39m\u001b[38;5;241m.\u001b[39m_compiled_call_impl(\u001b[38;5;241m*\u001b[39margs, \u001b[38;5;241m*\u001b[39m\u001b[38;5;241m*\u001b[39mkwargs)  \u001b[38;5;66;03m# type: ignore[misc]\u001b[39;00m\n\u001b[1;32m   1517\u001b[0m \u001b[38;5;28;01melse\u001b[39;00m:\n\u001b[0;32m-> 1518\u001b[0m     \u001b[38;5;28;01mreturn\u001b[39;00m \u001b[38;5;28;43mself\u001b[39;49m\u001b[38;5;241;43m.\u001b[39;49m\u001b[43m_call_impl\u001b[49m\u001b[43m(\u001b[49m\u001b[38;5;241;43m*\u001b[39;49m\u001b[43margs\u001b[49m\u001b[43m,\u001b[49m\u001b[43m \u001b[49m\u001b[38;5;241;43m*\u001b[39;49m\u001b[38;5;241;43m*\u001b[39;49m\u001b[43mkwargs\u001b[49m\u001b[43m)\u001b[49m\n",
      "File \u001b[0;32m/opt/conda/lib/python3.10/site-packages/torch/nn/modules/module.py:1527\u001b[0m, in \u001b[0;36mModule._call_impl\u001b[0;34m(self, *args, **kwargs)\u001b[0m\n\u001b[1;32m   1522\u001b[0m \u001b[38;5;66;03m# If we don't have any hooks, we want to skip the rest of the logic in\u001b[39;00m\n\u001b[1;32m   1523\u001b[0m \u001b[38;5;66;03m# this function, and just call forward.\u001b[39;00m\n\u001b[1;32m   1524\u001b[0m \u001b[38;5;28;01mif\u001b[39;00m \u001b[38;5;129;01mnot\u001b[39;00m (\u001b[38;5;28mself\u001b[39m\u001b[38;5;241m.\u001b[39m_backward_hooks \u001b[38;5;129;01mor\u001b[39;00m \u001b[38;5;28mself\u001b[39m\u001b[38;5;241m.\u001b[39m_backward_pre_hooks \u001b[38;5;129;01mor\u001b[39;00m \u001b[38;5;28mself\u001b[39m\u001b[38;5;241m.\u001b[39m_forward_hooks \u001b[38;5;129;01mor\u001b[39;00m \u001b[38;5;28mself\u001b[39m\u001b[38;5;241m.\u001b[39m_forward_pre_hooks\n\u001b[1;32m   1525\u001b[0m         \u001b[38;5;129;01mor\u001b[39;00m _global_backward_pre_hooks \u001b[38;5;129;01mor\u001b[39;00m _global_backward_hooks\n\u001b[1;32m   1526\u001b[0m         \u001b[38;5;129;01mor\u001b[39;00m _global_forward_hooks \u001b[38;5;129;01mor\u001b[39;00m _global_forward_pre_hooks):\n\u001b[0;32m-> 1527\u001b[0m     \u001b[38;5;28;01mreturn\u001b[39;00m \u001b[43mforward_call\u001b[49m\u001b[43m(\u001b[49m\u001b[38;5;241;43m*\u001b[39;49m\u001b[43margs\u001b[49m\u001b[43m,\u001b[49m\u001b[43m \u001b[49m\u001b[38;5;241;43m*\u001b[39;49m\u001b[38;5;241;43m*\u001b[39;49m\u001b[43mkwargs\u001b[49m\u001b[43m)\u001b[49m\n\u001b[1;32m   1529\u001b[0m \u001b[38;5;28;01mtry\u001b[39;00m:\n\u001b[1;32m   1530\u001b[0m     result \u001b[38;5;241m=\u001b[39m \u001b[38;5;28;01mNone\u001b[39;00m\n",
      "Cell \u001b[0;32mIn[10], line 99\u001b[0m, in \u001b[0;36mMidBlock.forward\u001b[0;34m(self, x, t_emb, context)\u001b[0m\n\u001b[1;32m     97\u001b[0m     \u001b[38;5;28;01mif\u001b[39;00m \u001b[38;5;28mself\u001b[39m\u001b[38;5;241m.\u001b[39mt_emb_dim \u001b[38;5;129;01mis\u001b[39;00m \u001b[38;5;129;01mnot\u001b[39;00m \u001b[38;5;28;01mNone\u001b[39;00m:\n\u001b[1;32m     98\u001b[0m         out \u001b[38;5;241m=\u001b[39m out \u001b[38;5;241m+\u001b[39m \u001b[38;5;28mself\u001b[39m\u001b[38;5;241m.\u001b[39mt_emb_layers[i \u001b[38;5;241m+\u001b[39m \u001b[38;5;241m1\u001b[39m](t_emb)[:, :, \u001b[38;5;28;01mNone\u001b[39;00m, \u001b[38;5;28;01mNone\u001b[39;00m]\n\u001b[0;32m---> 99\u001b[0m     out \u001b[38;5;241m=\u001b[39m \u001b[38;5;28;43mself\u001b[39;49m\u001b[38;5;241;43m.\u001b[39;49m\u001b[43mresnet_conv_second\u001b[49m\u001b[43m[\u001b[49m\u001b[43mi\u001b[49m\u001b[43m \u001b[49m\u001b[38;5;241;43m+\u001b[39;49m\u001b[43m \u001b[49m\u001b[38;5;241;43m1\u001b[39;49m\u001b[43m]\u001b[49m\u001b[43m(\u001b[49m\u001b[43mout\u001b[49m\u001b[43m)\u001b[49m\n\u001b[1;32m    100\u001b[0m     out \u001b[38;5;241m=\u001b[39m out \u001b[38;5;241m+\u001b[39m \u001b[38;5;28mself\u001b[39m\u001b[38;5;241m.\u001b[39mresidual_input_conv[i \u001b[38;5;241m+\u001b[39m \u001b[38;5;241m1\u001b[39m](resnet_input)\n\u001b[1;32m    102\u001b[0m \u001b[38;5;28;01mreturn\u001b[39;00m out\n",
      "File \u001b[0;32m/opt/conda/lib/python3.10/site-packages/torch/nn/modules/module.py:1518\u001b[0m, in \u001b[0;36mModule._wrapped_call_impl\u001b[0;34m(self, *args, **kwargs)\u001b[0m\n\u001b[1;32m   1516\u001b[0m     \u001b[38;5;28;01mreturn\u001b[39;00m \u001b[38;5;28mself\u001b[39m\u001b[38;5;241m.\u001b[39m_compiled_call_impl(\u001b[38;5;241m*\u001b[39margs, \u001b[38;5;241m*\u001b[39m\u001b[38;5;241m*\u001b[39mkwargs)  \u001b[38;5;66;03m# type: ignore[misc]\u001b[39;00m\n\u001b[1;32m   1517\u001b[0m \u001b[38;5;28;01melse\u001b[39;00m:\n\u001b[0;32m-> 1518\u001b[0m     \u001b[38;5;28;01mreturn\u001b[39;00m \u001b[38;5;28;43mself\u001b[39;49m\u001b[38;5;241;43m.\u001b[39;49m\u001b[43m_call_impl\u001b[49m\u001b[43m(\u001b[49m\u001b[38;5;241;43m*\u001b[39;49m\u001b[43margs\u001b[49m\u001b[43m,\u001b[49m\u001b[43m \u001b[49m\u001b[38;5;241;43m*\u001b[39;49m\u001b[38;5;241;43m*\u001b[39;49m\u001b[43mkwargs\u001b[49m\u001b[43m)\u001b[49m\n",
      "File \u001b[0;32m/opt/conda/lib/python3.10/site-packages/torch/nn/modules/module.py:1527\u001b[0m, in \u001b[0;36mModule._call_impl\u001b[0;34m(self, *args, **kwargs)\u001b[0m\n\u001b[1;32m   1522\u001b[0m \u001b[38;5;66;03m# If we don't have any hooks, we want to skip the rest of the logic in\u001b[39;00m\n\u001b[1;32m   1523\u001b[0m \u001b[38;5;66;03m# this function, and just call forward.\u001b[39;00m\n\u001b[1;32m   1524\u001b[0m \u001b[38;5;28;01mif\u001b[39;00m \u001b[38;5;129;01mnot\u001b[39;00m (\u001b[38;5;28mself\u001b[39m\u001b[38;5;241m.\u001b[39m_backward_hooks \u001b[38;5;129;01mor\u001b[39;00m \u001b[38;5;28mself\u001b[39m\u001b[38;5;241m.\u001b[39m_backward_pre_hooks \u001b[38;5;129;01mor\u001b[39;00m \u001b[38;5;28mself\u001b[39m\u001b[38;5;241m.\u001b[39m_forward_hooks \u001b[38;5;129;01mor\u001b[39;00m \u001b[38;5;28mself\u001b[39m\u001b[38;5;241m.\u001b[39m_forward_pre_hooks\n\u001b[1;32m   1525\u001b[0m         \u001b[38;5;129;01mor\u001b[39;00m _global_backward_pre_hooks \u001b[38;5;129;01mor\u001b[39;00m _global_backward_hooks\n\u001b[1;32m   1526\u001b[0m         \u001b[38;5;129;01mor\u001b[39;00m _global_forward_hooks \u001b[38;5;129;01mor\u001b[39;00m _global_forward_pre_hooks):\n\u001b[0;32m-> 1527\u001b[0m     \u001b[38;5;28;01mreturn\u001b[39;00m \u001b[43mforward_call\u001b[49m\u001b[43m(\u001b[49m\u001b[38;5;241;43m*\u001b[39;49m\u001b[43margs\u001b[49m\u001b[43m,\u001b[49m\u001b[43m \u001b[49m\u001b[38;5;241;43m*\u001b[39;49m\u001b[38;5;241;43m*\u001b[39;49m\u001b[43mkwargs\u001b[49m\u001b[43m)\u001b[49m\n\u001b[1;32m   1529\u001b[0m \u001b[38;5;28;01mtry\u001b[39;00m:\n\u001b[1;32m   1530\u001b[0m     result \u001b[38;5;241m=\u001b[39m \u001b[38;5;28;01mNone\u001b[39;00m\n",
      "File \u001b[0;32m/opt/conda/lib/python3.10/site-packages/torch/nn/modules/container.py:215\u001b[0m, in \u001b[0;36mSequential.forward\u001b[0;34m(self, input)\u001b[0m\n\u001b[1;32m    213\u001b[0m \u001b[38;5;28;01mdef\u001b[39;00m \u001b[38;5;21mforward\u001b[39m(\u001b[38;5;28mself\u001b[39m, \u001b[38;5;28minput\u001b[39m):\n\u001b[1;32m    214\u001b[0m     \u001b[38;5;28;01mfor\u001b[39;00m module \u001b[38;5;129;01min\u001b[39;00m \u001b[38;5;28mself\u001b[39m:\n\u001b[0;32m--> 215\u001b[0m         \u001b[38;5;28minput\u001b[39m \u001b[38;5;241m=\u001b[39m \u001b[43mmodule\u001b[49m\u001b[43m(\u001b[49m\u001b[38;5;28;43minput\u001b[39;49m\u001b[43m)\u001b[49m\n\u001b[1;32m    216\u001b[0m     \u001b[38;5;28;01mreturn\u001b[39;00m \u001b[38;5;28minput\u001b[39m\n",
      "File \u001b[0;32m/opt/conda/lib/python3.10/site-packages/torch/nn/modules/module.py:1518\u001b[0m, in \u001b[0;36mModule._wrapped_call_impl\u001b[0;34m(self, *args, **kwargs)\u001b[0m\n\u001b[1;32m   1516\u001b[0m     \u001b[38;5;28;01mreturn\u001b[39;00m \u001b[38;5;28mself\u001b[39m\u001b[38;5;241m.\u001b[39m_compiled_call_impl(\u001b[38;5;241m*\u001b[39margs, \u001b[38;5;241m*\u001b[39m\u001b[38;5;241m*\u001b[39mkwargs)  \u001b[38;5;66;03m# type: ignore[misc]\u001b[39;00m\n\u001b[1;32m   1517\u001b[0m \u001b[38;5;28;01melse\u001b[39;00m:\n\u001b[0;32m-> 1518\u001b[0m     \u001b[38;5;28;01mreturn\u001b[39;00m \u001b[38;5;28;43mself\u001b[39;49m\u001b[38;5;241;43m.\u001b[39;49m\u001b[43m_call_impl\u001b[49m\u001b[43m(\u001b[49m\u001b[38;5;241;43m*\u001b[39;49m\u001b[43margs\u001b[49m\u001b[43m,\u001b[49m\u001b[43m \u001b[49m\u001b[38;5;241;43m*\u001b[39;49m\u001b[38;5;241;43m*\u001b[39;49m\u001b[43mkwargs\u001b[49m\u001b[43m)\u001b[49m\n",
      "File \u001b[0;32m/opt/conda/lib/python3.10/site-packages/torch/nn/modules/module.py:1527\u001b[0m, in \u001b[0;36mModule._call_impl\u001b[0;34m(self, *args, **kwargs)\u001b[0m\n\u001b[1;32m   1522\u001b[0m \u001b[38;5;66;03m# If we don't have any hooks, we want to skip the rest of the logic in\u001b[39;00m\n\u001b[1;32m   1523\u001b[0m \u001b[38;5;66;03m# this function, and just call forward.\u001b[39;00m\n\u001b[1;32m   1524\u001b[0m \u001b[38;5;28;01mif\u001b[39;00m \u001b[38;5;129;01mnot\u001b[39;00m (\u001b[38;5;28mself\u001b[39m\u001b[38;5;241m.\u001b[39m_backward_hooks \u001b[38;5;129;01mor\u001b[39;00m \u001b[38;5;28mself\u001b[39m\u001b[38;5;241m.\u001b[39m_backward_pre_hooks \u001b[38;5;129;01mor\u001b[39;00m \u001b[38;5;28mself\u001b[39m\u001b[38;5;241m.\u001b[39m_forward_hooks \u001b[38;5;129;01mor\u001b[39;00m \u001b[38;5;28mself\u001b[39m\u001b[38;5;241m.\u001b[39m_forward_pre_hooks\n\u001b[1;32m   1525\u001b[0m         \u001b[38;5;129;01mor\u001b[39;00m _global_backward_pre_hooks \u001b[38;5;129;01mor\u001b[39;00m _global_backward_hooks\n\u001b[1;32m   1526\u001b[0m         \u001b[38;5;129;01mor\u001b[39;00m _global_forward_hooks \u001b[38;5;129;01mor\u001b[39;00m _global_forward_pre_hooks):\n\u001b[0;32m-> 1527\u001b[0m     \u001b[38;5;28;01mreturn\u001b[39;00m \u001b[43mforward_call\u001b[49m\u001b[43m(\u001b[49m\u001b[38;5;241;43m*\u001b[39;49m\u001b[43margs\u001b[49m\u001b[43m,\u001b[49m\u001b[43m \u001b[49m\u001b[38;5;241;43m*\u001b[39;49m\u001b[38;5;241;43m*\u001b[39;49m\u001b[43mkwargs\u001b[49m\u001b[43m)\u001b[49m\n\u001b[1;32m   1529\u001b[0m \u001b[38;5;28;01mtry\u001b[39;00m:\n\u001b[1;32m   1530\u001b[0m     result \u001b[38;5;241m=\u001b[39m \u001b[38;5;28;01mNone\u001b[39;00m\n",
      "File \u001b[0;32m/opt/conda/lib/python3.10/site-packages/torch/nn/modules/normalization.py:279\u001b[0m, in \u001b[0;36mGroupNorm.forward\u001b[0;34m(self, input)\u001b[0m\n\u001b[1;32m    278\u001b[0m \u001b[38;5;28;01mdef\u001b[39;00m \u001b[38;5;21mforward\u001b[39m(\u001b[38;5;28mself\u001b[39m, \u001b[38;5;28minput\u001b[39m: Tensor) \u001b[38;5;241m-\u001b[39m\u001b[38;5;241m>\u001b[39m Tensor:\n\u001b[0;32m--> 279\u001b[0m     \u001b[38;5;28;01mreturn\u001b[39;00m \u001b[43mF\u001b[49m\u001b[38;5;241;43m.\u001b[39;49m\u001b[43mgroup_norm\u001b[49m\u001b[43m(\u001b[49m\n\u001b[1;32m    280\u001b[0m \u001b[43m        \u001b[49m\u001b[38;5;28;43minput\u001b[39;49m\u001b[43m,\u001b[49m\u001b[43m \u001b[49m\u001b[38;5;28;43mself\u001b[39;49m\u001b[38;5;241;43m.\u001b[39;49m\u001b[43mnum_groups\u001b[49m\u001b[43m,\u001b[49m\u001b[43m \u001b[49m\u001b[38;5;28;43mself\u001b[39;49m\u001b[38;5;241;43m.\u001b[39;49m\u001b[43mweight\u001b[49m\u001b[43m,\u001b[49m\u001b[43m \u001b[49m\u001b[38;5;28;43mself\u001b[39;49m\u001b[38;5;241;43m.\u001b[39;49m\u001b[43mbias\u001b[49m\u001b[43m,\u001b[49m\u001b[43m \u001b[49m\u001b[38;5;28;43mself\u001b[39;49m\u001b[38;5;241;43m.\u001b[39;49m\u001b[43meps\u001b[49m\u001b[43m)\u001b[49m\n",
      "File \u001b[0;32m/opt/conda/lib/python3.10/site-packages/torch/nn/functional.py:2558\u001b[0m, in \u001b[0;36mgroup_norm\u001b[0;34m(input, num_groups, weight, bias, eps)\u001b[0m\n\u001b[1;32m   2556\u001b[0m     \u001b[38;5;28;01mraise\u001b[39;00m \u001b[38;5;167;01mRuntimeError\u001b[39;00m(\u001b[38;5;124mf\u001b[39m\u001b[38;5;124m\"\u001b[39m\u001b[38;5;124mExpected at least 2 dimensions for input tensor but received \u001b[39m\u001b[38;5;132;01m{\u001b[39;00m\u001b[38;5;28minput\u001b[39m\u001b[38;5;241m.\u001b[39mdim()\u001b[38;5;132;01m}\u001b[39;00m\u001b[38;5;124m\"\u001b[39m)\n\u001b[1;32m   2557\u001b[0m _verify_batch_size([\u001b[38;5;28minput\u001b[39m\u001b[38;5;241m.\u001b[39msize(\u001b[38;5;241m0\u001b[39m) \u001b[38;5;241m*\u001b[39m \u001b[38;5;28minput\u001b[39m\u001b[38;5;241m.\u001b[39msize(\u001b[38;5;241m1\u001b[39m) \u001b[38;5;241m/\u001b[39m\u001b[38;5;241m/\u001b[39m num_groups, num_groups] \u001b[38;5;241m+\u001b[39m \u001b[38;5;28mlist\u001b[39m(\u001b[38;5;28minput\u001b[39m\u001b[38;5;241m.\u001b[39msize()[\u001b[38;5;241m2\u001b[39m:]))\n\u001b[0;32m-> 2558\u001b[0m \u001b[38;5;28;01mreturn\u001b[39;00m \u001b[43mtorch\u001b[49m\u001b[38;5;241;43m.\u001b[39;49m\u001b[43mgroup_norm\u001b[49m\u001b[43m(\u001b[49m\u001b[38;5;28;43minput\u001b[39;49m\u001b[43m,\u001b[49m\u001b[43m \u001b[49m\u001b[43mnum_groups\u001b[49m\u001b[43m,\u001b[49m\u001b[43m \u001b[49m\u001b[43mweight\u001b[49m\u001b[43m,\u001b[49m\u001b[43m \u001b[49m\u001b[43mbias\u001b[49m\u001b[43m,\u001b[49m\u001b[43m \u001b[49m\u001b[43meps\u001b[49m\u001b[43m,\u001b[49m\u001b[43m \u001b[49m\u001b[43mtorch\u001b[49m\u001b[38;5;241;43m.\u001b[39;49m\u001b[43mbackends\u001b[49m\u001b[38;5;241;43m.\u001b[39;49m\u001b[43mcudnn\u001b[49m\u001b[38;5;241;43m.\u001b[39;49m\u001b[43menabled\u001b[49m\u001b[43m)\u001b[49m\n",
      "\u001b[0;31mKeyboardInterrupt\u001b[0m: "
     ]
    }
   ],
   "source": [
    "def train(args):\n",
    "    with open(args.config_path, 'r') as file:\n",
    "        try:\n",
    "            config = yaml.safe_load(file)\n",
    "            print('Loaded YAML file')\n",
    "        except yaml.YAMLError as exc:\n",
    "            print(exc)\n",
    "    # print(config)\n",
    "\n",
    "    dataset_config = config['dataset_params']\n",
    "    autoencoder_config = config['autoencoder_params']\n",
    "    train_config = config['train_params']\n",
    "\n",
    "    seed = train_config['seed']\n",
    "    torch.manual_seed(seed)\n",
    "    np.random.seed(seed)\n",
    "    random.seed(seed)\n",
    "    if device == 'cuda':\n",
    "        torch.cuda.manual_seed_all(seed)\n",
    "    model = VQVAE(im_channels = dataset_config['im_channels'],\n",
    "                  model_config = autoencoder_config).to(device)\n",
    "    \n",
    "#     im_dataset_cls = {\n",
    "#         'celebhq': CelebDataset,\n",
    "#     }.get(dataset_config['name'])\n",
    "#     print(\"im_dataset_cls = \", im_dataset_cls)\n",
    "#     im_dataset = im_dataset_cls(split = 'train', im_path = dataset_config['im_path'],\n",
    "#                                 im_size = dataset_config['im_size'],\n",
    "#                                 im_channels = dataset_config['im_channels'])\n",
    "#     print(\"Length of dataset = \",len(im_dataset))\n",
    "#     data_loader = DataLoader(im_dataset, batch_size = train_config['autoencoder_batch_size'], shuffle = True)\n",
    "    \n",
    "#     data_root = '/kaggle/input/celebritydataset'\n",
    "#     dataset = ImageFolder(data_root)\n",
    "#     print(\"datasettype = \", type(dataset[0]))\n",
    "#     print(\"datasetshape = \", len(dataset))\n",
    "#     batch_size = train_config['autoencoder_batch_size']\n",
    "#     data_loader = DataLoader(dataset = dataset, batch_size = batch_size, shuffle = True)\n",
    "#     print(\"length of dataset = \", len(dataset))\n",
    "#     for i in data_loader:\n",
    "#         print(i)\n",
    "#     transform = transforms.Compose([transforms.ToTensor()])\n",
    "#     transformed_dataset = MyDataset(dataset, transform)\n",
    "#     transformed_dataset = DataLoader(transformed_dataset, batch_size, shuffle=True)\n",
    "#     print(\"Transformed dataset shape = \", transformed_dataset.shape)\n",
    "\n",
    "    \n",
    "    if not os.path.exists(train_config['task_name']):\n",
    "        os.mkdir(train_config['task_name'])\n",
    "\n",
    "    num_epochs = train_config['autoencoder_epochs']\n",
    "\n",
    "    recon_criterion = torch.nn.MSELoss()\n",
    "    disc_criterion = torch.nn.MSELoss()\n",
    "\n",
    "    lpips_model = LPIPS().eval().to(device)\n",
    "    discriminator = Discriminator(im_channels = dataset_config['im_channels']).to(device)\n",
    "\n",
    "    optimizer_d = Adam(discriminator.parameters(), lr = train_config['autoencoder_lr'], betas = (0.5, 0.999))\n",
    "    optimizer_g = Adam(model.parameters(), lr = train_config['autoencoder_lr'], betas = (0.5, 0.999))\n",
    "\n",
    "    disc_step_start = train_config['disc_start']\n",
    "    step_count = 0\n",
    "\n",
    "    acc_steps= train_config['autoencoder_acc_steps']\n",
    "    image_save_steps = train_config['autoencoder_img_save_steps']\n",
    "    image_save_count = 0\n",
    "    print(\"Starting training\")\n",
    "    for epoch_idx in range(5):\n",
    "        recon_losses = []\n",
    "        codebook_losses = []\n",
    "        perceptual_losses = []\n",
    "        disc_losses = []\n",
    "        gen_losses = []\n",
    "        losses = []\n",
    "\n",
    "        optimizer_g.zero_grad()\n",
    "        optimizer_d.zero_grad()\n",
    "        \n",
    "        for im in tqdm(dataloader):\n",
    "            step_count += 1\n",
    "#             print(type(im))\n",
    "#             im = im.to(device)\n",
    "#             print(im)\n",
    "#             print(\"imsize = \", len(im))\n",
    "#             im = np.array(im)\n",
    "#             print(im.shape)\n",
    "#             im = torchvision.transforms.functional.pil_to_tensor(im)\n",
    "#             print(im.size())\n",
    "            \n",
    "#             transform = transforms.Compose([transforms.ToTensor()])\n",
    "#             x = transform(im)  \n",
    "            im = im.to(device)\n",
    "\n",
    "                \n",
    "#             print(type(im[0]))\n",
    "#             im = torch.stack(im, dim=0)\n",
    "#             im = np.array(im)\n",
    "#             im = im.to(device)\n",
    "#             print(im.size())\n",
    "#             transform = transforms.Compose([transforms.ToTensor()])\n",
    "#             x = transform(im)\n",
    "            model_output = model(im)\n",
    "            output, z, quantize_losses = model_output\n",
    "            \n",
    "            if step_count % image_save_steps == 0 or step_count == 1:\n",
    "                sample_size = min(8, im.shape[0])\n",
    "                save_output = torch.clamp(output[:sample_size], -1., 1.).detach().cpu()\n",
    "                save_output = ((save_output + 1) / 2)\n",
    "                save_input = ((im[:sample_size] + 1) / 2).detach().cpu()\n",
    "\n",
    "                grid = make_grid(torch.cat([save_input, save_output], dim = 0), nrow = sample_size)\n",
    "                img = torchvision.transforms.ToPILImage()(grid)\n",
    "                if not os.path.exists(os.path.join(train_config['task_name'], 'vqvae_autoencoder_samples')):\n",
    "                    os.mkdir(os.path.join(train_config['task_name'], 'vqvae_autoencoder_samples'))\n",
    "                img.save(os.path.join(train_config['task_name'], 'vqvae_autoencoder_samples', 'current_autoencoder_samples{}.png'.format(image_save_count)))\n",
    "                image_save_count += 1\n",
    "                img.close()\n",
    "\n",
    "            recon_loss = recon_criterion(output, im)\n",
    "            recon_losses.append(recon_loss.item())\n",
    "            recon_loss = recon_loss / acc_steps\n",
    "            g_loss = (recon_loss +\n",
    "                        (train_config['codebook_weight'] * quantize_losses['codebook_loss'] / acc_steps) +\n",
    "                        (train_config['commitment_beta'] * quantize_losses['commitment_loss'] / acc_steps))\n",
    "            codebook_losses.append(train_config['codebook_weight'] * quantize_losses['codebook_loss'].item())\n",
    "\n",
    "            if step_count > disc_step_start:\n",
    "                disc_fake_pred = discriminator(model_output[0])\n",
    "                disc_fake_loss = disc_criterion(disc_fake_pred, torch.ones(disc_fake_pred.shape, device = disc_fake_pred.device))\n",
    "                gen_losses.append(train_config['disc_weight'] * disc_fake_loss.item())\n",
    "                g_loss += train_config['disc_weight'] * disc_fake_loss / acc_steps;\n",
    "            lpips_loss = torch.mean(lpips_model(output, im)) / acc_steps\n",
    "            perceptual_losses.append(train_config['perceptual_weight'] * lpips_loss.item())\n",
    "            g_loss += train_config['perceptual_weight'] * lpips_loss / acc_steps\n",
    "            losses.append(g_loss.item())\n",
    "            g_loss.backward()\n",
    "\n",
    "            if step_count > disc_step_start:\n",
    "                fake = output\n",
    "                disc_fake_pred = discriminator(fake.detach())\n",
    "                disc_real_pred = discriminator(im)\n",
    "                disc_fake_loss = disc_criterion(disc_fake_pred, torch.zeros(disc_fake_pred.shape, device = disc_fake_pred.device))\n",
    "                disc_real_loss = disc_criterion(disc_real_pred, torch.ones(disc_real_pred.shape, device = disc_real_pred.device))\n",
    "                disc_loss = train_config['disc_weight'] * (disc_fake_loss + disc_real_loss) / 2\n",
    "                disc_losses.append(disc_loss.item())\n",
    "                disc_loss = disc_loss / acc_steps\n",
    "                disc_loss.backward()\n",
    "                if step_count % acc_steps == 0:\n",
    "                    optimizer_d.step()\n",
    "                    optimizer_d.zero_grad()\n",
    "\n",
    "            if step_count % acc_steps == 0:\n",
    "                optimizer_g.step()\n",
    "                optimizer_g.zero_grad()\n",
    "\n",
    "        optimizer_d.step()\n",
    "        optimizer_d.zero_grad()\n",
    "        optimizer_g.step()\n",
    "        optimizer_g.zero_grad()\n",
    "        if len(disc_losses) > 0:\n",
    "            print(\n",
    "                'Finished epoch: {} | Recon loss: {:.4f} | Perceptual loss: {:.4f}'\n",
    "                'Codebook: {:.4f} | G Loss: {:.4f} | D loss: {:.4f}'.\n",
    "                format(epoch_idx + 1, np.mean(recon_losses), np.mean(perceptual_losses), np.mean(codebook_losses), np.mean(gen_losses), np.mean(disc_losses))\n",
    "            )\n",
    "        else:\n",
    "            print(\n",
    "                'Finished epoch: {} | Recon loss: {:.4f} | Perceptual loss: {:.4f}'\n",
    "                'Codebook: {:.4f}'.\n",
    "                format(epoch_idx + 1, np.mean(recon_losses), np.mean(perceptual_losses), np.mean(codebook_losses))\n",
    "            )\n",
    "        torch.save(model.state_dict(), os.path.join(train_config['task_name'],\n",
    "                                                    train_config['vqvae_autoencoder_ckpt_name']))\n",
    "        torch.save(discriminator.state_dict(), os.path.join(train_config['task_name'],\n",
    "                                                            train_config['vqvae_discriminator_ckpt_name']))\n",
    "        print('Done training.........')\n",
    "\n",
    "\n",
    "if __name__ == '__main__':\n",
    "    parser = argparse.ArgumentParser(description = 'Arguments for vqvae training')\n",
    "    parser.add_argument('--config', dest = 'config_path', default = '/kaggle/input/celebhq-yaml/celebhq.yaml', type = str)\n",
    "    args = parser.parse_args(args = [])\n",
    "    train(args)\n",
    "\n"
   ]
  },
  {
   "cell_type": "code",
   "execution_count": 62,
   "metadata": {
    "execution": {
     "iopub.execute_input": "2024-08-03T06:30:14.605608Z",
     "iopub.status.busy": "2024-08-03T06:30:14.604918Z",
     "iopub.status.idle": "2024-08-03T06:30:14.610009Z",
     "shell.execute_reply": "2024-08-03T06:30:14.609083Z",
     "shell.execute_reply.started": "2024-08-03T06:30:14.605575Z"
    },
    "id": "ZDN_tYPjGR5m"
   },
   "outputs": [],
   "source": [
    "import argparse\n",
    "import glob\n",
    "import os\n",
    "import pickle\n",
    "from torch.utils.data.dataloader import DataLoader\n",
    "from torchvision.utils import make_grid\n",
    "from tqdm import tqdm\n"
   ]
  },
  {
   "cell_type": "code",
   "execution_count": 63,
   "metadata": {
    "execution": {
     "iopub.execute_input": "2024-08-03T06:30:16.990116Z",
     "iopub.status.busy": "2024-08-03T06:30:16.989213Z",
     "iopub.status.idle": "2024-08-03T06:30:17.000703Z",
     "shell.execute_reply": "2024-08-03T06:30:16.999685Z",
     "shell.execute_reply.started": "2024-08-03T06:30:16.990082Z"
    }
   },
   "outputs": [],
   "source": [
    "from transformers import CLIPTokenizer, CLIPTextModel\n",
    "\n",
    "def get_tokenizer_and_model(model_type, device, eval_mode = True):\n",
    "    assert model_type in ('bert', 'clip'), \"Text model can be only clip or bert\"\n",
    "    if model_type == 'bert':\n",
    "        text_tokenizer = DistilBertTokenizer.from_pretrained('distilbert-base-uncased')\n",
    "        text_model = DistilBertModel.from_pretrained('distilbert-base-uncased').to(device)\n",
    "    else:\n",
    "        text_tokenizer = CLIPTokenizer.from_pretrained('openai/clip-vit-base-patch16')\n",
    "        text_model = CLIPTextModel.from_pretrained('openai/clip-vit-base-patch16').to(device)\n",
    "    if eval_mode:\n",
    "        text_model.eval()\n",
    "    return text_tokenizer, text_model\n",
    "\n",
    "def get_text_representation(text, text_tokenizer, text_model, device, truncation = True, padding = 'max_length', max_length = 77):\n",
    "    token_output = text_tokenizer(text, truncation = truncation, padding = padding, return_attention_mask = True, max_length = max_length)\n",
    "    indexed_tokens = token_output['input_ids']\n",
    "    att_masks = token_output['attention_mask']\n",
    "    tokens_tensor = torch.tensor(indexed_tokens).to(device)\n",
    "    mask_tensor = torch.tensor(att_masks).to(device)\n",
    "    text_embed = text_model(tokens_tensor, attention_mask = mask_tensor).last_hidden_state\n",
    "    return text_embed"
   ]
  },
  {
   "cell_type": "code",
   "execution_count": 64,
   "metadata": {
    "execution": {
     "iopub.execute_input": "2024-08-03T06:30:19.379466Z",
     "iopub.status.busy": "2024-08-03T06:30:19.378551Z",
     "iopub.status.idle": "2024-08-03T06:30:19.994102Z",
     "shell.execute_reply": "2024-08-03T06:30:19.993088Z",
     "shell.execute_reply.started": "2024-08-03T06:30:19.379424Z"
    }
   },
   "outputs": [
    {
     "name": "stderr",
     "output_type": "stream",
     "text": [
      "100%|██████████| 30000/30000 [00:00<00:00, 1510064.20it/s]\n"
     ]
    }
   ],
   "source": [
    "fnames = []\n",
    "fnames += glob.glob(os.path.join('/kaggle/input/textcond/image', 'images/*.jpg'))\n",
    "\n",
    "imss = []\n",
    "\n",
    "for fname in tqdm(fnames):\n",
    "    imss.append(fname)"
   ]
  },
  {
   "cell_type": "code",
   "execution_count": 65,
   "metadata": {
    "execution": {
     "iopub.execute_input": "2024-08-03T06:30:22.699835Z",
     "iopub.status.busy": "2024-08-03T06:30:22.699216Z",
     "iopub.status.idle": "2024-08-03T06:30:25.072020Z",
     "shell.execute_reply": "2024-08-03T06:30:25.070924Z",
     "shell.execute_reply.started": "2024-08-03T06:30:22.699804Z"
    },
    "id": "bKaLHsGGGZpy"
   },
   "outputs": [
    {
     "name": "stdout",
     "output_type": "stream",
     "text": [
      "{'dataset_params': {'im_path': '/kaggle/input/celebritydataset/celeba_hq_256', 'im_channels': 3, 'im_size': 256, 'name': 'celebhq'}, 'diffusion_params': {'num_timesteps': 1000, 'beta_start': 0.00085, 'beta_end': 0.012}, 'ldm_params': {'down_channels': [256, 384, 512, 768], 'mid_channels': [768, 512], 'down_sample': [True, True, True], 'attn_down': [True, True, True], 'time_emb_dim': 512, 'norm_channels': 32, 'num_heads': 16, 'conv_out_channels': 128, 'num_down_layers': 2, 'num_mid_layers': 2, 'num_up_layers': 2, 'condition_config': {'condition_types': ['text'], 'text_condition_config': {'text_embed_model': 'clip', 'train_text_embed_model': False, 'text_embed_dim': 512, 'cond_drop_prob': 0.1}}}, 'autoencoder_params': {'z_channels': 3, 'codebook_size': 8192, 'down_channels': [64, 128, 256, 256], 'mid_channels': [256, 256], 'down_sample': [True, True, True], 'attn_down': [False, False, False], 'norm_channels': 32, 'num_heads': 4, 'num_down_layers': 2, 'num_mid_layers': 2, 'num_up_layers': 2}, 'train_params': {'seed': 1111, 'task_name': 'celebhq', 'ldm_batch_size': 16, 'autoencoder_batch_size': 4, 'disc_start': 15000, 'disc_weight': 0.5, 'codebook_weight': 1, 'commitment_beta': 0.2, 'perceptual_weight': 1, 'kl_weight': 5e-06, 'ldm_epochs': 100, 'autoencoder_epochs': 20, 'num_samples': 1, 'num_grid_rows': 1, 'ldm_lr': 5e-06, 'autoencoder_lr': 1e-05, 'autoencoder_acc_steps': 4, 'autoencoder_img_save_steps': 64, 'save_latents': False, 'cf_guidance_scale': 1.0, 'vae_latent_dir_name': 'vae_latents', 'vqvae_latent_dir_name': 'vqvae_latents', 'ldm_ckpt_name': 'ddpm_ckpt_text_cond_clip.pth', 'vqvae_autoencoder_ckpt_name': 'vqvae_autoencoder_ckpt.pth', 'vae_autoencoder_ckpt_name': 'vae_autoencoder_ckpt.pth', 'vqvae_discriminator_ckpt_name': 'vqvae_discriminator_ckpt.pth', 'vae_discriminator_ckpt_name': 'vae_discriminator_ckpt.pth'}}\n"
     ]
    },
    {
     "name": "stderr",
     "output_type": "stream",
     "text": [
      "0it [00:00, ?it/s]"
     ]
    },
    {
     "name": "stdout",
     "output_type": "stream",
     "text": [
      "<__main__.CelebDataset object at 0x7c33e83ae170>\n",
      "<torch.utils.data.dataloader.DataLoader object at 0x7c33bef79e10>\n"
     ]
    },
    {
     "name": "stderr",
     "output_type": "stream",
     "text": [
      "\n"
     ]
    },
    {
     "data": {
      "image/png": "[encoded data removed]",
      "text/plain": [
       "<PIL.Image.Image image mode=RGB size=256x256>"
      ]
     },
     "metadata": {},
     "output_type": "display_data"
    },
    {
     "data": {
      "image/png": "[encoded data removed]",
      "text/plain": [
       "<PIL.Image.Image image mode=RGB size=32x32>"
      ]
     },
     "metadata": {},
     "output_type": "display_data"
    },
    {
     "data": {
      "image/png": "[encoded data removed]",
      "text/plain": [
       "<PIL.Image.Image image mode=RGB size=256x256>"
      ]
     },
     "metadata": {},
     "output_type": "display_data"
    },
    {
     "ename": "AssertionError",
     "evalue": "Latents are already present. Delete all latent files and rerun",
     "output_type": "error",
     "traceback": [
      "\u001b[0;31m---------------------------------------------------------------------------\u001b[0m",
      "\u001b[0;31mAssertionError\u001b[0m                            Traceback (most recent call last)",
      "Cell \u001b[0;32mIn[65], line 85\u001b[0m\n\u001b[1;32m     83\u001b[0m parser\u001b[38;5;241m.\u001b[39madd_argument(\u001b[38;5;124m'\u001b[39m\u001b[38;5;124m--config\u001b[39m\u001b[38;5;124m'\u001b[39m, dest \u001b[38;5;241m=\u001b[39m \u001b[38;5;124m'\u001b[39m\u001b[38;5;124mconfig_path\u001b[39m\u001b[38;5;124m'\u001b[39m, default \u001b[38;5;241m=\u001b[39m \u001b[38;5;124m'\u001b[39m\u001b[38;5;124m/kaggle/input/celebyaml/celebhq_text_cond (1).yaml\u001b[39m\u001b[38;5;124m'\u001b[39m, \u001b[38;5;28mtype\u001b[39m \u001b[38;5;241m=\u001b[39m \u001b[38;5;28mstr\u001b[39m)\n\u001b[1;32m     84\u001b[0m args \u001b[38;5;241m=\u001b[39m parser\u001b[38;5;241m.\u001b[39mparse_args(args \u001b[38;5;241m=\u001b[39m [])\n\u001b[0;32m---> 85\u001b[0m \u001b[43minfer\u001b[49m\u001b[43m(\u001b[49m\u001b[43margs\u001b[49m\u001b[43m)\u001b[49m\n",
      "Cell \u001b[0;32mIn[65], line 61\u001b[0m, in \u001b[0;36minfer\u001b[0;34m(args)\u001b[0m\n\u001b[1;32m     59\u001b[0m latent_path \u001b[38;5;241m=\u001b[39m os\u001b[38;5;241m.\u001b[39mpath\u001b[38;5;241m.\u001b[39mjoin(train_config[\u001b[38;5;124m'\u001b[39m\u001b[38;5;124mtask_name\u001b[39m\u001b[38;5;124m'\u001b[39m], train_config[\u001b[38;5;124m'\u001b[39m\u001b[38;5;124mvqvae_latent_dir_name\u001b[39m\u001b[38;5;124m'\u001b[39m])\n\u001b[1;32m     60\u001b[0m latent_fnames \u001b[38;5;241m=\u001b[39m glob\u001b[38;5;241m.\u001b[39mglob(os\u001b[38;5;241m.\u001b[39mpath\u001b[38;5;241m.\u001b[39mjoin(train_config[\u001b[38;5;124m'\u001b[39m\u001b[38;5;124mtask_name\u001b[39m\u001b[38;5;124m'\u001b[39m], train_config[\u001b[38;5;124m'\u001b[39m\u001b[38;5;124mvqvae_latent_dir_name\u001b[39m\u001b[38;5;124m'\u001b[39m], \u001b[38;5;124m'\u001b[39m\u001b[38;5;124m*.pkl\u001b[39m\u001b[38;5;124m'\u001b[39m))\n\u001b[0;32m---> 61\u001b[0m \u001b[38;5;28;01massert\u001b[39;00m \u001b[38;5;28mlen\u001b[39m(latent_fnames) \u001b[38;5;241m==\u001b[39m \u001b[38;5;241m0\u001b[39m, \u001b[38;5;124m\"\u001b[39m\u001b[38;5;124mLatents are already present. Delete all latent files and rerun\u001b[39m\u001b[38;5;124m\"\u001b[39m\n\u001b[1;32m     62\u001b[0m \u001b[38;5;28;01mif\u001b[39;00m \u001b[38;5;129;01mnot\u001b[39;00m os\u001b[38;5;241m.\u001b[39mpath\u001b[38;5;241m.\u001b[39mexists(latent_path):\n\u001b[1;32m     63\u001b[0m     os\u001b[38;5;241m.\u001b[39mmkdir(latent_path)\n",
      "\u001b[0;31mAssertionError\u001b[0m: Latents are already present. Delete all latent files and rerun"
     ]
    }
   ],
   "source": [
    "# from sklearn.externals import joblib\n",
    "\n",
    "def infer(args):\n",
    "    with open(args.config_path, 'r') as file:\n",
    "        try:\n",
    "            config = yaml.safe_load(file)\n",
    "        except yaml.YAMLError as exc:\n",
    "            print(exc)\n",
    "    print(config)\n",
    "    dataset_config = config['dataset_params']\n",
    "    autoencoder_config = config['autoencoder_params']\n",
    "    train_config = config['train_params']\n",
    "#     im_dataset_cls = {\n",
    "#         'celebhq': ImageDataset,\n",
    "#     }.get(dataset_config['name'])\n",
    "    im_dataset = CelebDataset(split='train',\n",
    "                                im_path='/kaggle/input/celebritydataset/celeba_hq_256',\n",
    "                                im_size=dataset_config['im_size'],\n",
    "                                im_channels=dataset_config['im_channels'])\n",
    "    print(im_dataset)\n",
    "    data_loader = DataLoader(im_dataset,\n",
    "                            batch_size=1,\n",
    "                            shuffle=False)\n",
    "    print(data_loader)\n",
    "\n",
    "    num_images = train_config['num_samples']\n",
    "    ngrid = train_config['num_grid_rows']\n",
    "    idxs = torch.randint(0, len(dataset) - 1, (num_images,))\n",
    "    ims = torch.cat([dataset[idx][None, :] for idx in idxs]).float()\n",
    "    ims = ims.to(device)\n",
    "    model = VQVAE(im_channels=dataset_config['im_channels'],\n",
    "                model_config=autoencoder_config).to(device)\n",
    "    model.load_state_dict(torch.load(\"/kaggle/input/vqvae/pytorch/default/1/vqvae_autoencoder_ckpt (2).pth\", map_location=device))\n",
    "    \n",
    "    model.eval()\n",
    "    with torch.no_grad():\n",
    "        encoded_output, _ = model.encode(ims)\n",
    "        decoded_output = model.decode(encoded_output)\n",
    "        encoded_output = torch.clamp(encoded_output, -1., 1.)\n",
    "        encoded_output = (encoded_output + 1) / 2\n",
    "        decoded_output = torch.clamp(decoded_output, -1., 1.)\n",
    "        decoded_output = (decoded_output + 1) / 2\n",
    "        ims = (ims + 1) / 2\n",
    "\n",
    "        encoder_grid = make_grid(encoded_output.cpu(), nrow = ngrid)\n",
    "        decoder_grid = make_grid(decoded_output.cpu(), nrow = ngrid)\n",
    "        input_grid = make_grid(ims.cpu(), nrow = ngrid)\n",
    "        encoder_grid = torchvision.transforms.ToPILImage()(encoder_grid)\n",
    "        decoder_grid = torchvision.transforms.ToPILImage()(decoder_grid)\n",
    "        input_grid = torchvision.transforms.ToPILImage()(input_grid)\n",
    "        display(input_grid)\n",
    "        display(encoder_grid)\n",
    "        display(decoder_grid)\n",
    "        input_grid.save(os.path.join('/kaggle/working/celebhq', 'input_samples.png'))\n",
    "        encoder_grid.save(os.path.join('/kaggle/working/celebhq', 'encoded_samples.png'))\n",
    "        decoder_grid.save(os.path.join('/kaggle/working/celebhq', 'reconstructed_samples.png'))\n",
    "#         if train_config['save_latents']:\n",
    "        if True:\n",
    "            latent_path = os.path.join(train_config['task_name'], train_config['vqvae_latent_dir_name'])\n",
    "            latent_fnames = glob.glob(os.path.join(train_config['task_name'], train_config['vqvae_latent_dir_name'], '*.pkl'))\n",
    "            assert len(latent_fnames) == 0, \"Latents are already present. Delete all latent files and rerun\"\n",
    "            if not os.path.exists(latent_path):\n",
    "                os.mkdir(latent_path)\n",
    "            print('Saving latents for {}'.format(dataset_config['name']))\n",
    "            fname_latent_map = {}\n",
    "            part_count = 0\n",
    "            count = 0\n",
    "            for idx, im in enumerate(tqdm(dataloader)):\n",
    "                encoded_output, _ = model.encode(im.float().to(device))\n",
    "                fname_latent_map[imss[idx]] = encoded_output.cpu()\n",
    "                if(count + 1) % 1000 == 0:\n",
    "                    pickle.dump(fname_latent_map, open(os.path.join(latent_path, '{}.pkl'.format(part_count)), 'wb'))\n",
    "                    part_count += 1\n",
    "                    fname_latent_map = {}\n",
    "                count += 1\n",
    "            if len(fname_latent_map) > 0:\n",
    "                pickle.dum(fname_latent_map, open(os.path.join(latent_path, '{}.pkl'.format(part_count)), 'wb'))\n",
    "\n",
    "            print('Done saving latents')\n",
    "\n",
    "if __name__ == '__main__':\n",
    "    parser = argparse.ArgumentParser(description = 'Arguments for vqvae inference')\n",
    "    parser.add_argument('--config', dest = 'config_path', default = '/kaggle/input/celebyaml/celebhq_text_cond (1).yaml', type = str)\n",
    "    args = parser.parse_args(args = [])\n",
    "    infer(args)\n"
   ]
  },
  {
   "cell_type": "markdown",
   "metadata": {
    "id": "FLEIxVeYWIg0"
   },
   "source": [
    "### **Train**"
   ]
  },
  {
   "cell_type": "code",
   "execution_count": 66,
   "metadata": {
    "execution": {
     "iopub.execute_input": "2024-08-03T06:30:34.914909Z",
     "iopub.status.busy": "2024-08-03T06:30:34.914242Z",
     "iopub.status.idle": "2024-08-03T06:30:34.927689Z",
     "shell.execute_reply": "2024-08-03T06:30:34.926712Z",
     "shell.execute_reply.started": "2024-08-03T06:30:34.914877Z"
    }
   },
   "outputs": [],
   "source": [
    "# Creating a custom dataset class \n",
    "class ImageDatasetNew(torch.utils.data.Dataset): \n",
    "    def __init__(self, im_size = 256, im_channels = 3, use_latents = False, latent_path = None, condition_config = None): \n",
    "        ims = []\n",
    "        fnames = []\n",
    "        texts = []\n",
    "        fnames += glob.glob(os.path.join('/kaggle/input/textcond/image', 'images/*.jpg'))\n",
    "        \n",
    "        for fname in tqdm(fnames):\n",
    "            ims.append(fname)\n",
    "            im_name = os.path.split(fname)[1].split('.')[0]\n",
    "            captions_im = []\n",
    "            with open(os.path.join('/kaggle/input/textcond/text', 'celeba-caption/{}.txt'.format(im_name))) as f:\n",
    "                for line in f.readlines():\n",
    "                    captions_im.append(line.strip())\n",
    "            texts.append(captions_im)\n",
    "        assert len(texts) == len(ims), \"Condition type text but could not find output for all images\"\n",
    "        self.images = ims\n",
    "        self.texts = texts\n",
    "        self.use_latents = use_latents\n",
    "        if use_latents and latent_path is not None:\n",
    "            latent_maps = load_latents(latent_path)\n",
    "            if len(latent_maps) == len(self.images):\n",
    "                self.use_latents = True\n",
    "                self.latent_maps = latent_maps\n",
    "                print('Found {} latents'.format(len(self.latent_maps)))\n",
    "            else:\n",
    "                print('Latents not found')\n",
    "    \n",
    "    def __getitem__(self, index):\n",
    "        cond_inputs = {}\n",
    "        cond_inputs['text'] = random.sample(self.texts[index], k = 1)[0]\n",
    "        if self.use_latents:\n",
    "            latent = self.latent_maps[self.images[index]]\n",
    "            return latent, cond_inputs\n",
    "        else:\n",
    "            im = Image.open(self.images[index])\n",
    "            im_tensor = torchvision.transforms.Compose([\n",
    "                torchvision.transforms.Resize(self.im_size),\n",
    "                torchvision.transforms.CenterCrop(self.im_size),\n",
    "                torchvision.transforms.ToTensor()\n",
    "            ])(im)\n",
    "            im.close()\n",
    "            im_tensor = (2 * im_tensor) - 1\n",
    "            return im_tensor, cond_inputs\n",
    "    def __len__(self):\n",
    "        return len(self.images)"
   ]
  },
  {
   "cell_type": "code",
   "execution_count": 67,
   "metadata": {
    "execution": {
     "iopub.execute_input": "2024-08-03T06:30:41.600222Z",
     "iopub.status.busy": "2024-08-03T06:30:41.599597Z",
     "iopub.status.idle": "2024-08-03T06:30:41.604407Z",
     "shell.execute_reply": "2024-08-03T06:30:41.603445Z",
     "shell.execute_reply.started": "2024-08-03T06:30:41.600178Z"
    },
    "id": "sHYVDZerWM9p"
   },
   "outputs": [],
   "source": [
    "from torch.optim import Adam\n"
   ]
  },
  {
   "cell_type": "code",
   "execution_count": 68,
   "metadata": {
    "execution": {
     "iopub.execute_input": "2024-08-03T06:30:43.126577Z",
     "iopub.status.busy": "2024-08-03T06:30:43.125762Z",
     "iopub.status.idle": "2024-08-03T06:30:43.131124Z",
     "shell.execute_reply": "2024-08-03T06:30:43.130029Z",
     "shell.execute_reply.started": "2024-08-03T06:30:43.126545Z"
    }
   },
   "outputs": [],
   "source": [
    "def get_config_value(config, key, default_value):\n",
    "    return config[key] if key in config else default_value"
   ]
  },
  {
   "cell_type": "code",
   "execution_count": 70,
   "metadata": {
    "execution": {
     "iopub.execute_input": "2024-08-03T06:31:35.169450Z",
     "iopub.status.busy": "2024-08-03T06:31:35.168824Z",
     "iopub.status.idle": "2024-08-03T12:20:42.421405Z",
     "shell.execute_reply": "2024-08-03T12:20:42.420552Z",
     "shell.execute_reply.started": "2024-08-03T06:31:35.169406Z"
    },
    "id": "Fz0UHVYCWU1r"
   },
   "outputs": [
    {
     "name": "stdout",
     "output_type": "stream",
     "text": [
      "{'dataset_params': {'im_path': '/kaggle/input/celebritydataset/celeba_hq_256', 'im_channels': 3, 'im_size': 256, 'name': 'celebhq'}, 'diffusion_params': {'num_timesteps': 1000, 'beta_start': 0.00085, 'beta_end': 0.012}, 'ldm_params': {'down_channels': [256, 384, 512, 768], 'mid_channels': [768, 512], 'down_sample': [True, True, True], 'attn_down': [True, True, True], 'time_emb_dim': 512, 'norm_channels': 32, 'num_heads': 16, 'conv_out_channels': 128, 'num_down_layers': 2, 'num_mid_layers': 2, 'num_up_layers': 2, 'condition_config': {'condition_types': ['text'], 'text_condition_config': {'text_embed_model': 'clip', 'train_text_embed_model': False, 'text_embed_dim': 512, 'cond_drop_prob': 0.1}}}, 'autoencoder_params': {'z_channels': 3, 'codebook_size': 8192, 'down_channels': [64, 128, 256, 256], 'mid_channels': [256, 256], 'down_sample': [True, True, True], 'attn_down': [False, False, False], 'norm_channels': 32, 'num_heads': 4, 'num_down_layers': 2, 'num_mid_layers': 2, 'num_up_layers': 2}, 'train_params': {'seed': 1111, 'task_name': 'celebhq', 'ldm_batch_size': 16, 'autoencoder_batch_size': 4, 'disc_start': 15000, 'disc_weight': 0.5, 'codebook_weight': 1, 'commitment_beta': 0.2, 'perceptual_weight': 1, 'kl_weight': 5e-06, 'ldm_epochs': 100, 'autoencoder_epochs': 20, 'num_samples': 1, 'num_grid_rows': 1, 'ldm_lr': 5e-06, 'autoencoder_lr': 1e-05, 'autoencoder_acc_steps': 4, 'autoencoder_img_save_steps': 64, 'save_latents': False, 'cf_guidance_scale': 1.0, 'vae_latent_dir_name': 'vae_latents', 'vqvae_latent_dir_name': 'vqvae_latents', 'ldm_ckpt_name': 'ddpm_ckpt_text_cond_clip.pth', 'vqvae_autoencoder_ckpt_name': 'vqvae_autoencoder_ckpt.pth', 'vae_autoencoder_ckpt_name': 'vae_autoencoder_ckpt.pth', 'vqvae_discriminator_ckpt_name': 'vqvae_discriminator_ckpt.pth', 'vae_discriminator_ckpt_name': 'vae_discriminator_ckpt.pth'}}\n",
      "condition_config =  {'condition_types': ['text'], 'text_condition_config': {'text_embed_model': 'clip', 'train_text_embed_model': False, 'text_embed_dim': 512, 'cond_drop_prob': 0.1}}\n"
     ]
    },
    {
     "name": "stderr",
     "output_type": "stream",
     "text": [
      "100%|██████████| 30000/30000 [02:28<00:00, 201.48it/s]\n"
     ]
    },
    {
     "name": "stdout",
     "output_type": "stream",
     "text": [
      "Found 30000 latents\n"
     ]
    },
    {
     "name": "stderr",
     "output_type": "stream",
     "text": [
      "100%|██████████| 30000/30000 [49:41<00:00, 10.06it/s] \n"
     ]
    },
    {
     "name": "stdout",
     "output_type": "stream",
     "text": [
      "Finished epoch: 1 | Loss: 0.0654\n"
     ]
    },
    {
     "name": "stderr",
     "output_type": "stream",
     "text": [
      " 20%|██        | 6076/30000 [10:00<39:09, 10.18it/s]  IOPub message rate exceeded.\n",
      "The notebook server will temporarily stop sending output\n",
      "to the client in order to avoid crashing it.\n",
      "To change this limit, set the config variable\n",
      "`--NotebookApp.iopub_msg_rate_limit`.\n",
      "\n",
      "Current values:\n",
      "NotebookApp.iopub_msg_rate_limit=1000.0 (msgs/sec)\n",
      "NotebookApp.rate_limit_window=3.0 (secs)\n",
      "\n",
      "100%|██████████| 30000/30000 [49:38<00:00, 10.07it/s]\n"
     ]
    },
    {
     "name": "stdout",
     "output_type": "stream",
     "text": [
      "Finished epoch: 2 | Loss: 0.0466\n"
     ]
    },
    {
     "name": "stderr",
     "output_type": "stream",
     "text": [
      "100%|██████████| 30000/30000 [49:45<00:00, 10.05it/s] \n"
     ]
    },
    {
     "name": "stdout",
     "output_type": "stream",
     "text": [
      "Finished epoch: 3 | Loss: 0.0433\n"
     ]
    },
    {
     "name": "stderr",
     "output_type": "stream",
     "text": [
      "100%|██████████| 30000/30000 [49:24<00:00, 10.12it/s] \n"
     ]
    },
    {
     "name": "stdout",
     "output_type": "stream",
     "text": [
      "Finished epoch: 4 | Loss: 0.0419\n"
     ]
    },
    {
     "name": "stderr",
     "output_type": "stream",
     "text": [
      "100%|██████████| 30000/30000 [49:23<00:00, 10.12it/s] \n"
     ]
    },
    {
     "name": "stdout",
     "output_type": "stream",
     "text": [
      "Finished epoch: 5 | Loss: 0.0411\n"
     ]
    },
    {
     "name": "stderr",
     "output_type": "stream",
     "text": [
      "100%|██████████| 30000/30000 [49:17<00:00, 10.15it/s] \n"
     ]
    },
    {
     "name": "stdout",
     "output_type": "stream",
     "text": [
      "Finished epoch: 6 | Loss: 0.0404\n"
     ]
    },
    {
     "name": "stderr",
     "output_type": "stream",
     "text": [
      "100%|██████████| 30000/30000 [49:15<00:00, 10.15it/s] \n"
     ]
    },
    {
     "name": "stdout",
     "output_type": "stream",
     "text": [
      "Finished epoch: 7 | Loss: 0.0396\n",
      "Done training\n"
     ]
    }
   ],
   "source": [
    "def trainFinal(args):\n",
    "    with open(args.config_path, 'r') as file:\n",
    "        try:\n",
    "            config = yaml.safe_load(file)\n",
    "        except yaml.YAMLError as exc:\n",
    "            print(exc)\n",
    "    print(config)\n",
    "\n",
    "    diffusion_config = config['diffusion_params']\n",
    "    dataset_config = config['dataset_params']\n",
    "    diffusion_model_config = config['ldm_params']\n",
    "    autoencoder_model_config = config['autoencoder_params']\n",
    "    train_config = config['train_params']\n",
    "\n",
    "    scheduler = LinearNoiseScheduler(num_timesteps=diffusion_config['num_timesteps'],\n",
    "                                     beta_start=diffusion_config['beta_start'],\n",
    "                                     beta_end=diffusion_config['beta_end'])\n",
    "#     im_dataset_cls = {\n",
    "#         'celebhq': CelebDataset,\n",
    "#     }.get(dataset_config['name'])\n",
    "\n",
    "#     im_dataset = im_dataset_cls(split='train',\n",
    "#                                 im_path=dataset_config['im_path'],\n",
    "#                                 im_size=dataset_config['im_size'],\n",
    "#                                 im_channels=dataset_config['im_channels'],\n",
    "#                                 use_latents=True,\n",
    "#                                 latent_path=os.path.join(train_config['task_name'], train_config['vqvae_latent_dir_name'])\n",
    "#                                 )\n",
    "#     data_loader = DataLoader(im_dataset,\n",
    "#                              batch_size=train_config['ldm_batch_size'],\n",
    "#                              shuffle=True)\n",
    "    text_tokenizer = None\n",
    "    text_model = None\n",
    "    empty_text_embed = None\n",
    "    condition_types = []\n",
    "    condition_config = get_config_value(diffusion_model_config, key = 'condition_config', default_value = None)\n",
    "    print(\"condition_config = \", condition_config)\n",
    "    if condition_config is not None:\n",
    "        assert 'condition_types' in condition_config, 'condition type missing in condition config'\n",
    "        condition_types = condition_config['condition_types']\n",
    "        if 'text' in condition_types:\n",
    "            validate_text_config(condition_config)\n",
    "            with torch.no_grad():\n",
    "                text_tokenizer, text_model = get_tokenizer_and_model(condition_config['text_condition_config']['text_embed_model'], device = device)\n",
    "                empty_text_embed = get_text_representation([''], text_tokenizer, text_model, device)\n",
    "            \n",
    "            \n",
    "    im_dataset = ImageDatasetNew(use_latents = True, latent_path=os.path.join(train_config['task_name'],\n",
    "                                                         train_config['vqvae_latent_dir_name']))\n",
    "    dataloader = DataLoader(im_dataset, batch_size=1, shuffle=True)\n",
    "    \n",
    "    model = Unet(im_channels=autoencoder_model_config['z_channels'],\n",
    "                 model_config=diffusion_model_config).to(device)\n",
    "    model.train()\n",
    "    vae = None\n",
    "    if not im_dataset.use_latents:\n",
    "        print('Loading vqvae model as latents not present')\n",
    "        vae = VQVAE(im_channels=dataset_config['im_channels'],\n",
    "                    model_config=autoencoder_model_config).to(device)\n",
    "        vae.eval()\n",
    "#     -------------\n",
    "        if os.path.exists('/kaggle/input/vqvae/pytorch/default/1/vqvae_autoencoder_ckpt (2).pth'):\n",
    "                print('Loaded vae checkpoint')\n",
    "                vae.load_state_dict(torch.load('/kaggle/input/vqvae/pytorch/default/1/vqvae_autoencoder_ckpt (2).pth', map_location=device))\n",
    "        else:\n",
    "            raise Exception('VAE checkpoint not found and use_latents was disabled')\n",
    "\n",
    "    num_epochs = 5\n",
    "    optimizer = Adam(model.parameters(), lr = train_config['ldm_lr'])\n",
    "    criterion = nn.MSELoss()\n",
    "\n",
    "    if not im_dataset.use_latents:\n",
    "        assert vae is not None\n",
    "        for param in vae.parameters():\n",
    "            param.requires_grad = False\n",
    "\n",
    "    for epoch_idx in range(7):\n",
    "        losses = []\n",
    "        for data in tqdm(dataloader):\n",
    "            cond_input = None\n",
    "            if condition_config is not None:\n",
    "                im, cond_input = data\n",
    "            else:\n",
    "                im = data\n",
    "            optimizer.zero_grad()\n",
    "            im = im.float().to(device)\n",
    "            if not im_dataset.use_latents:\n",
    "                with torch.no_grad():\n",
    "                    im, _ = vae.encode(im)\n",
    "            if 'text' in condition_types:\n",
    "                with torch.no_grad():\n",
    "                    assert 'text' in cond_input, 'conditioning type text but no text present'\n",
    "                    validate_text_config(condition_config)\n",
    "                    text_condition = get_text_representation(cond_input['text'], text_tokenizer, text_model, device)\n",
    "                    text_drop_prob = get_config_value(condition_config['text_condition_config'], 'cond_drop_prob', 0.)\n",
    "                    text_condition = drop_text_condition(text_condition, im, empty_text_embed, text_drop_prob)\n",
    "                    cond_input['text'] = text_condition\n",
    "            \n",
    "            \n",
    "\n",
    "            noise = torch.randn_like(im).to(device)\n",
    "            t = torch.randint(0, diffusion_config['num_timesteps'], (im.shape[0],)).to(device)\n",
    "            noisy_im = scheduler.add_noise(im, noise, t)\n",
    "            noise_pred = model(noisy_im, t, cond_input = cond_input)\n",
    "\n",
    "            loss = criterion(noise_pred, noise)\n",
    "            losses.append(loss.item())\n",
    "            loss.backward()\n",
    "            optimizer.step()\n",
    "        print('Finished epoch: {} | Loss: {:.4f}'.format(epoch_idx + 1, np.mean(losses)))\n",
    "        torch.save(model.state_dict(), os.path.join(train_config['task_name'], train_config['ldm_ckpt_name']))\n",
    "    print(\"Done training\")\n",
    "\n",
    "if __name__ == '__main__':\n",
    "    parser = argparse.ArgumentParser(description='Arguments for ddpm training')\n",
    "    parser.add_argument('--config', dest='config_path',\n",
    "                        default='/kaggle/input/celebyaml/celebhq_text_cond (1).yaml', type=str)\n",
    "    args = parser.parse_args(args = [])\n",
    "    trainFinal(args)"
   ]
  },
  {
   "cell_type": "markdown",
   "metadata": {
    "id": "Vei9XYYjY5t8"
   },
   "source": [
    "### **Sample VQVAE and DDPM**"
   ]
  },
  {
   "cell_type": "code",
   "execution_count": 88,
   "metadata": {
    "execution": {
     "iopub.execute_input": "2024-08-03T13:23:22.462204Z",
     "iopub.status.busy": "2024-08-03T13:23:22.461626Z",
     "iopub.status.idle": "2024-08-03T13:23:22.485074Z",
     "shell.execute_reply": "2024-08-03T13:23:22.484117Z",
     "shell.execute_reply.started": "2024-08-03T13:23:22.462172Z"
    }
   },
   "outputs": [],
   "source": [
    "def sample(model, scheduler, train_config, diffusion_model_config, autoencoder_model_config, diffusion_config, dataset_config, vae, text_tokenizer, text_model):\n",
    "    im_size = dataset_config['im_size'] // 2 ** sum(autoencoder_model_config['down_sample'])\n",
    "    xt = torch.randn((1, autoencoder_model_config['z_channels'], im_size, im_size)).to(device)\n",
    "    text_prompt = ['She is a woman with blond hair. She is wearing lipstick']\n",
    "    neg_prompt = ['He is a man']\n",
    "    empty_prompt = ['']\n",
    "    text_prompt_embed = get_text_representation(text_prompt, text_tokenizer, text_model, device)\n",
    "    empty_text_embed = get_text_representation(empty_prompt, text_tokenizer, text_model, device)\n",
    "    assert empty_text_embed.shape == text_prompt_embed.shape\n",
    "    \n",
    "    uncond_input = {'text': empty_text_embed}\n",
    "    cond_input = {'text': text_prompt_embed}\n",
    "    cf_guidance_scale = get_config_value(train_config, 'cf_guidance_scale', 1.0)\n",
    "    \n",
    "    for i in tqdm(reversed(range(diffusion_config['num_timesteps']))):\n",
    "        t = (torch.ones((xt.shape[0],)) * i).long().to(device)\n",
    "        noise_pred_cond = model(xt, t, cond_input)\n",
    "        \n",
    "        if cf_guidance_scale > 1:\n",
    "            noise_pred_uncond = model(xt, t, uncond_input)\n",
    "            noise_pred = noise_pred_uncond + cf_guidance_scale * (noise_pred_cond - noise_pred_uncond)\n",
    "        else:\n",
    "            noise_pred = noise_pred_cond\n",
    "        \n",
    "        \n",
    "        xt, x0_pred = scheduler.sample_prev_timestep(xt, noise_pred, torch.as_tensor(i).to(device))\n",
    "        if i == 0:\n",
    "            ims = vae.decode(xt)\n",
    "        else:\n",
    "            ims = xt\n",
    "\n",
    "        ims = torch.clamp(ims, -1., 1.).detach().cpu()\n",
    "        ims = (ims + 1) / 2\n",
    "        grid = make_grid(ims, nrow = train_config['num_grid_rows'])\n",
    "        img = torchvision.transforms.ToPILImage()(grid)\n",
    "\n",
    "        if not os.path.exists(os.path.join(train_config['task_name'], 'samples')):\n",
    "            os.mkdir(os.path.join(train_config['task_name'], 'samples'))\n",
    "        img.save(os.path.join(train_config['task_name'], 'samples', 'x0_{}.png'.format(i)))\n",
    "        img.close()\n",
    "\n",
    "\n",
    "def infer(args):\n",
    "    with open(args.config_path, 'r') as file:\n",
    "        try:\n",
    "            config = yaml.safe_load(file)\n",
    "        except yaml.YAMLError as exc:\n",
    "            print(exc)\n",
    "    print(config)\n",
    "    diffusion_config = config['diffusion_params']\n",
    "    dataset_config = config['dataset_params']\n",
    "    diffusion_model_config = config['ldm_params']\n",
    "    autoencoder_model_config = config['autoencoder_params']\n",
    "    train_config = config['train_params']\n",
    "    scheduler = LinearNoiseScheduler(num_timesteps=diffusion_config['num_timesteps'],\n",
    "                                 beta_start=diffusion_config['beta_start'],\n",
    "                                 beta_end=diffusion_config['beta_end'])\n",
    "    text_tokenizer = None\n",
    "    text_model = None\n",
    "    \n",
    "    condition_config = get_config_value(diffusion_model_config, key = 'condition_config', default_value = None)\n",
    "    assert condition_config is not None, (\"This sampling script is for text conditioning but no conditioning config found\")\n",
    "    condition_types = get_config_value(condition_config, 'condition_types', [])\n",
    "    assert 'text' in condition_types, (\"This sampling script is for text conditioning but no text conditioning found in config\")\n",
    "    validate_text_config(condition_config)\n",
    "    \n",
    "    with torch.no_grad():\n",
    "        text_tokenizer, text_model = get_tokenizer_and_model(condition_config['text_condition_config']['text_embed_model'], device = device)\n",
    "\n",
    "    model = Unet(im_channels=autoencoder_model_config['z_channels'],\n",
    "                model_config=diffusion_model_config).to(device)\n",
    "    model.eval()\n",
    "    if os.path.exists(os.path.join(train_config['task_name'],\n",
    "                                train_config['ldm_ckpt_name'])):\n",
    "        print('Loaded unet checkpoint')\n",
    "        model.load_state_dict(torch.load(os.path.join(train_config['task_name'],\n",
    "                                                    train_config['ldm_ckpt_name']),\n",
    "                                        map_location=device))\n",
    "    else:\n",
    "        raise Exception('Model checkpoint {} not found'.format(os.path.join(train_config['task_name'], train_config['ldm_ckpt_name'])))\n",
    "        \n",
    "    # Create output directories\n",
    "    if not os.path.exists(train_config['task_name']):\n",
    "        os.mkdir(train_config['task_name'])\n",
    "\n",
    "    vae = VQVAE(im_channels=dataset_config['im_channels'],\n",
    "                model_config=autoencoder_model_config).to(device)\n",
    "    vae.eval()\n",
    "    if os.path.exists('/kaggle/input/vqvae/pytorch/default/1/vqvae_autoencoder_ckpt (2).pth'):\n",
    "        print('Loaded vae checkpoint')\n",
    "        vae.load_state_dict(torch.load('/kaggle/input/vqvae/pytorch/default/1/vqvae_autoencoder_ckpt (2).pth', map_location=device))\n",
    "    else:\n",
    "        raise Exception('VAE checkpoint {} not found'.format(os.path.join(train_config['task_name'], train_config['vqvae_autoencoder_ckpt_name'])))\n",
    "        \n",
    "    with torch.no_grad():\n",
    "        sample(model, scheduler, train_config, diffusion_model_config,\n",
    "            autoencoder_model_config, diffusion_config, dataset_config, vae, text_tokenizer, text_model)\n"
   ]
  },
  {
   "cell_type": "code",
   "execution_count": 90,
   "metadata": {
    "execution": {
     "iopub.execute_input": "2024-08-03T13:24:50.476978Z",
     "iopub.status.busy": "2024-08-03T13:24:50.476326Z",
     "iopub.status.idle": "2024-08-03T13:25:21.251216Z",
     "shell.execute_reply": "2024-08-03T13:25:21.250229Z",
     "shell.execute_reply.started": "2024-08-03T13:24:50.476946Z"
    },
    "id": "qFCgjb61lFup"
   },
   "outputs": [
    {
     "name": "stdout",
     "output_type": "stream",
     "text": [
      "OK\n",
      "{'dataset_params': {'im_path': '/kaggle/input/celebritydataset/celeba_hq_256', 'im_channels': 3, 'im_size': 256, 'name': 'celebhq'}, 'diffusion_params': {'num_timesteps': 1000, 'beta_start': 0.00085, 'beta_end': 0.012}, 'ldm_params': {'down_channels': [256, 384, 512, 768], 'mid_channels': [768, 512], 'down_sample': [True, True, True], 'attn_down': [True, True, True], 'time_emb_dim': 512, 'norm_channels': 32, 'num_heads': 16, 'conv_out_channels': 128, 'num_down_layers': 2, 'num_mid_layers': 2, 'num_up_layers': 2, 'condition_config': {'condition_types': ['text'], 'text_condition_config': {'text_embed_model': 'clip', 'train_text_embed_model': False, 'text_embed_dim': 512, 'cond_drop_prob': 0.1}}}, 'autoencoder_params': {'z_channels': 3, 'codebook_size': 8192, 'down_channels': [64, 128, 256, 256], 'mid_channels': [256, 256], 'down_sample': [True, True, True], 'attn_down': [False, False, False], 'norm_channels': 32, 'num_heads': 4, 'num_down_layers': 2, 'num_mid_layers': 2, 'num_up_layers': 2}, 'train_params': {'seed': 1111, 'task_name': 'celebhq', 'ldm_batch_size': 16, 'autoencoder_batch_size': 4, 'disc_start': 15000, 'disc_weight': 0.5, 'codebook_weight': 1, 'commitment_beta': 0.2, 'perceptual_weight': 1, 'kl_weight': 5e-06, 'ldm_epochs': 100, 'autoencoder_epochs': 20, 'num_samples': 1, 'num_grid_rows': 1, 'ldm_lr': 5e-06, 'autoencoder_lr': 1e-05, 'autoencoder_acc_steps': 4, 'autoencoder_img_save_steps': 64, 'save_latents': False, 'cf_guidance_scale': 1.0, 'vae_latent_dir_name': 'vae_latents', 'vqvae_latent_dir_name': 'vqvae_latents', 'ldm_ckpt_name': 'ddpm_ckpt_text_cond_clip.pth', 'vqvae_autoencoder_ckpt_name': 'vqvae_autoencoder_ckpt.pth', 'vae_autoencoder_ckpt_name': 'vae_autoencoder_ckpt.pth', 'vqvae_discriminator_ckpt_name': 'vqvae_discriminator_ckpt.pth', 'vae_discriminator_ckpt_name': 'vae_discriminator_ckpt.pth'}}\n",
      "Loaded unet checkpoint\n",
      "Loaded vae checkpoint\n"
     ]
    },
    {
     "name": "stderr",
     "output_type": "stream",
     "text": [
      "1000it [00:27, 35.97it/s]\n"
     ]
    }
   ],
   "source": [
    "if __name__ == '__main__':\n",
    "    parser = argparse.ArgumentParser(description='Arguments for ddpm image generation')\n",
    "    parser.add_argument('--config', dest='config_path',\n",
    "                        default='/kaggle/input/celebyaml/celebhq_text_cond (1).yaml', type=str)\n",
    "    args = parser.parse_args(args = [])\n",
    "    print(\"OK\")\n",
    "    infer(args)"
   ]
  },
  {
   "cell_type": "code",
   "execution_count": 92,
   "metadata": {
    "execution": {
     "iopub.execute_input": "2024-08-03T13:30:35.165835Z",
     "iopub.status.busy": "2024-08-03T13:30:35.164930Z",
     "iopub.status.idle": "2024-08-03T13:30:35.170133Z",
     "shell.execute_reply": "2024-08-03T13:30:35.169275Z",
     "shell.execute_reply.started": "2024-08-03T13:30:35.165804Z"
    }
   },
   "outputs": [],
   "source": [
    "im = Image.open('/kaggle/working/celebhq/samples/x0_1.png')"
   ]
  },
  {
   "cell_type": "code",
   "execution_count": 94,
   "metadata": {
    "execution": {
     "iopub.execute_input": "2024-08-03T13:30:48.189956Z",
     "iopub.status.busy": "2024-08-03T13:30:48.189002Z",
     "iopub.status.idle": "2024-08-03T13:30:48.467081Z",
     "shell.execute_reply": "2024-08-03T13:30:48.466147Z",
     "shell.execute_reply.started": "2024-08-03T13:30:48.189922Z"
    }
   },
   "outputs": [
    {
     "data": {
      "text/plain": [
       "<matplotlib.image.AxesImage at 0x7c3348030190>"
      ]
     },
     "execution_count": 94,
     "metadata": {},
     "output_type": "execute_result"
    },
    {
     "data": {
      "image/png": "[encoded data removed]",
      "text/plain": [
       "<Figure size 640x480 with 1 Axes>"
      ]
     },
     "metadata": {},
     "output_type": "display_data"
    }
   ],
   "source": [
    "from matplotlib import pyplot as plt\n",
    "\n",
    "plt.imshow(im)"
   ]
  }
 ],
 "metadata": {
  "colab": {
   "provenance": []
  },
  "kaggle": {
   "accelerator": "gpu",
   "dataSources": [
    {
     "datasetId": 5359226,
     "sourceId": 8912504,
     "sourceType": "datasetVersion"
    },
    {
     "datasetId": 5483601,
     "sourceId": 9087860,
     "sourceType": "datasetVersion"
    },
    {
     "datasetId": 5483800,
     "sourceId": 9088120,
     "sourceType": "datasetVersion"
    },
    {
     "modelId": 98201,
     "modelInstanceId": 73341,
     "sourceId": 87310,
     "sourceType": "modelInstanceVersion"
    }
   ],
   "dockerImageVersionId": 30747,
   "isGpuEnabled": true,
   "isInternetEnabled": true,
   "language": "python",
   "sourceType": "notebook"
  },
  "kernelspec": {
   "display_name": "Python 3 (ipykernel)",
   "language": "python",
   "name": "python3"
  },
  "language_info": {
   "codemirror_mode": {
    "name": "ipython",
    "version": 3
   },
   "file_extension": ".py",
   "mimetype": "text/x-python",
   "name": "python",
   "nbconvert_exporter": "python",
   "pygments_lexer": "ipython3",
   "version": "3.8.10"
  }
 },
 "nbformat": 4,
 "nbformat_minor": 4
}
